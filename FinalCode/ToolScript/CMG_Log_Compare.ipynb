{
 "cells": [
  {
   "cell_type": "code",
   "execution_count": 40,
   "metadata": {},
   "outputs": [],
   "source": [
    "import os\n",
    "import PyLasMech as plm\n",
    "import numpy as np\n",
    "import pandas as pd"
   ]
  },
  {
   "cell_type": "code",
   "execution_count": 10,
   "metadata": {},
   "outputs": [
    {
     "name": "stdout",
     "output_type": "stream",
     "text": [
      "[IO] Found 3 log files\n"
     ]
    },
    {
     "data": {
      "text/html": [
       "<table style=\"display:inline\" border=\"1\" class=\"dataframe\">\n",
       "  <thead>\n",
       "    <tr style=\"text-align: right;\">\n",
       "      <th></th>\n",
       "      <th>FileName</th>\n",
       "      <th>Location</th>\n",
       "    </tr>\n",
       "  </thead>\n",
       "  <tbody>\n",
       "    <tr>\n",
       "      <th>0</th>\n",
       "      <td>CMGWell_Geomech.xlsx</td>\n",
       "      <td>..\\Data\\CMGWell_Geomech.xlsx</td>\n",
       "    </tr>\n",
       "    <tr>\n",
       "      <th>1</th>\n",
       "      <td>cmg_all_cells.xlsx</td>\n",
       "      <td>..\\Data\\cmg_all_cells.xlsx</td>\n",
       "    </tr>\n",
       "    <tr>\n",
       "      <th>2</th>\n",
       "      <td>cmg_volve_wells.xlsx</td>\n",
       "      <td>..\\Data\\CMG\\cmg_volve_wells.xlsx</td>\n",
       "    </tr>\n",
       "  </tbody>\n",
       "</table style=\"display:inline\">"
      ]
     },
     "metadata": {},
     "output_type": "display_data"
    }
   ],
   "source": [
    "CMGWellFiles=plm.FileFinder(\"../Data/\",fext=\".xlsx\")"
   ]
  },
  {
   "cell_type": "code",
   "execution_count": 27,
   "metadata": {},
   "outputs": [
    {
     "name": "stdout",
     "output_type": "stream",
     "text": [
      "Found CMG wells  ['I-F-1B', 'P-F-1C', 'P-F-11B', 'P-F-12', 'P-F-14', 'P-F-15C', 'P-F-15D', 'I-F-4', 'I-F-5']\n"
     ]
    }
   ],
   "source": [
    "CMGwells = pd.read_excel(CMGWellFiles[0], sheet_name=None)\n",
    "CMGWellNames=list(CMGwells.keys())\n",
    "print(\"Found CMG wells \",CMGWellNames)"
   ]
  },
  {
   "cell_type": "code",
   "execution_count": 28,
   "metadata": {},
   "outputs": [
    {
     "name": "stdout",
     "output_type": "stream",
     "text": [
      "Index(['Unnamed: 0', 'Block UBA', 'Grid Centroid X (m)', 'Grid Centroid Y (m)',\n",
      "       'Grid centroid Z(m)', 'SV', 'SHMAX', 'SHMIN', 'UCS', 'E', 'V', 'P_PORE',\n",
      "       'PORO', 'CMG Pore Pressure (MPa)', 'CMG Porosity'],\n",
      "      dtype='object')\n"
     ]
    }
   ],
   "source": [
    "print(CMGwells['I-F-1B'].columns.get_level_values(0))"
   ]
  },
  {
   "cell_type": "code",
   "execution_count": null,
   "metadata": {},
   "outputs": [
    {
     "name": "stdout",
     "output_type": "stream",
     "text": [
      "Avg Diff Pp= 3.820535832446008\n"
     ]
    },
    {
     "data": {
      "image/png": "[encoded data removed]",
      "text/plain": [
       "<Figure size 320x400 with 1 Axes>"
      ]
     },
     "metadata": {
      "needs_background": "light"
     },
     "output_type": "display_data"
    },
    {
     "name": "stdout",
     "output_type": "stream",
     "text": [
      "Avg Diff porosity= 0.07520413732038972\n"
     ]
    }
   ],
   "source": [
    "OutputFolder=\"./output/Log_CMG_Compare/\"\n",
    "os.makedirs(OutputFolder, exist_ok=True)\n",
    "\n",
    "NumWells=len(CMGWellNames)\n",
    "for i in range(NumWells): #Loop for each well\n",
    "    name=CMGWellNames[i]\n",
    "    DZ=CMGwells[name].loc[:,\"Grid centroid Z(m)\"]\n",
    "    phi_log=CMGwells[name].loc[:,\"PORO\"]\n",
    "    phi_CMG=CMGwells[name].loc[:,\"CMG Porosity\"]\n",
    "    Pp_log=CMGwells[name].loc[:,\"P_PORE\"]\n",
    "    Pp_CMG=CMGwells[name].loc[:,\"CMG Pore Pressure (MPa)\"]\n",
    "    \n",
    "    fname=OutputFolder+name +'_Ppcompare.png'\n",
    "    \n",
    "    print(\"Avg Diff Pp=\",np.average(np.abs(Pp_log-Pp_CMG)))\n",
    "    plm.utils.plotTables(Y=[DZ,DZ],X=[Pp_CMG,Pp_log],\n",
    "           XLable=\"Well \"+name+'\\nPore Pressure($MPa$)',YLabel='Depth($m$)',\n",
    "           DataNames=['$CMG$','$Log$'],\n",
    "           Xlim=[25,40],\n",
    "           InvertY=True,img_fname=fname)\n",
    "    \n",
    "    fname=OutputFolder+name +'_POROcompare.png'\n",
    "    print(\"Avg Diff porosity=\",np.average(np.abs(phi_log-phi_CMG)))\n",
    "    plm.utils.plotTables(Y=[DZ,DZ],X=[phi_CMG,phi_log],\n",
    "           XLable=\"Well \"+name+'\\nPorosity(-)',YLabel='Depth($m$)',\n",
    "           DataNames=['$CMG$','$Log$'],Xlim=[0,0.5],\n",
    "           InvertY=True,img_fname=fname)"
   ]
  },
  {
   "cell_type": "code",
   "execution_count": null,
   "metadata": {},
   "outputs": [],
   "source": []
  }
 ],
 "metadata": {
  "kernelspec": {
   "display_name": "Python 3",
   "language": "python",
   "name": "python3"
  },
  "language_info": {
   "codemirror_mode": {
    "name": "ipython",
    "version": 3
   },
   "file_extension": ".py",
   "mimetype": "text/x-python",
   "name": "python",
   "nbconvert_exporter": "python",
   "pygments_lexer": "ipython3",
   "version": "3.7.0"
  }
 },
 "nbformat": 4,
 "nbformat_minor": 2
}
