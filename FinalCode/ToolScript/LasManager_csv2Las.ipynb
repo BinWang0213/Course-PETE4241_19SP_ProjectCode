{
 "cells": [
  {
   "cell_type": "code",
   "execution_count": 1,
   "metadata": {},
   "outputs": [],
   "source": [
    "%load_ext autoreload\n",
    "%autoreload 2\n",
    "\n",
    "import os\n",
    "import matplotlib.pyplot as plt\n",
    "import pandas as pd\n",
    "import numpy as np\n",
    "\n",
    "import PyLasMech as plm"
   ]
  },
  {
   "cell_type": "markdown",
   "metadata": {},
   "source": [
    "### Read well log datas"
   ]
  },
  {
   "cell_type": "code",
   "execution_count": 2,
   "metadata": {},
   "outputs": [
    {
     "name": "stdout",
     "output_type": "stream",
     "text": [
      "[IO] Found 5 log files\n"
     ]
    },
    {
     "data": {
      "text/html": [
       "<table style=\"display:inline\" border=\"1\" class=\"dataframe\">\n",
       "  <thead>\n",
       "    <tr style=\"text-align: right;\">\n",
       "      <th></th>\n",
       "      <th>FileName</th>\n",
       "      <th>Location</th>\n",
       "    </tr>\n",
       "  </thead>\n",
       "  <tbody>\n",
       "    <tr>\n",
       "      <th>0</th>\n",
       "      <td>15_9-F-12_testpoints.csv</td>\n",
       "      <td>..\\Data\\Drilling\\15_9-F-12\\15_9-F-12_testpoint...</td>\n",
       "    </tr>\n",
       "    <tr>\n",
       "      <th>1</th>\n",
       "      <td>15_9-F-14_testpoints.csv</td>\n",
       "      <td>..\\Data\\Drilling\\15_9-F-14\\15_9-F-14_testpoint...</td>\n",
       "    </tr>\n",
       "    <tr>\n",
       "      <th>2</th>\n",
       "      <td>15_9-F-15C_testpoints.csv</td>\n",
       "      <td>..\\Data\\Drilling\\15_9-F-15C\\15_9-F-15C_testpoi...</td>\n",
       "    </tr>\n",
       "    <tr>\n",
       "      <th>3</th>\n",
       "      <td>15_9-F-4_testpoints.csv</td>\n",
       "      <td>..\\Data\\Drilling\\15_9-F-4\\15_9-F-4_testpoints.csv</td>\n",
       "    </tr>\n",
       "    <tr>\n",
       "      <th>4</th>\n",
       "      <td>15_9-F-5_test_point.csv</td>\n",
       "      <td>..\\Data\\Drilling\\15_9-F-5\\15_9-F-5_test_point.csv</td>\n",
       "    </tr>\n",
       "  </tbody>\n",
       "</table style=\"display:inline\">"
      ]
     },
     "metadata": {},
     "output_type": "display_data"
    },
    {
     "name": "stdout",
     "output_type": "stream",
     "text": [
      "WellNames= ['15_9-F-12', '15_9-F-14', '15_9-F-15C', '15_9-F-4', '15_9-F-5']\n"
     ]
    }
   ],
   "source": [
    "csvFiles=plm.FileFinder(\"../Data/Drilling\",fext=\".csv\")\n",
    "WellNames=[os.path.split(os.path.split(path)[0])[1] for path in csvFiles]\n",
    "print(\"WellNames=\",WellNames)"
   ]
  },
  {
   "cell_type": "code",
   "execution_count": 4,
   "metadata": {},
   "outputs": [
    {
     "name": "stdout",
     "output_type": "stream",
     "text": [
      "Well 15_9-F-12\n",
      "Reading csv file @ F:\\Course\\PETE 4241\\Projects\\Data\\Drilling\\15_9-F-12\\15_9-F-12_testpoints.csv\n",
      "Write Las file @ F:\\Course\\PETE 4241\\Projects\\Data\\Drilling\\15_9-F-12\\15_9-F-12_log.las\n",
      "Well 15_9-F-14\n",
      "Reading csv file @ F:\\Course\\PETE 4241\\Projects\\Data\\Drilling\\15_9-F-14\\15_9-F-14_testpoints.csv\n",
      "Write Las file @ F:\\Course\\PETE 4241\\Projects\\Data\\Drilling\\15_9-F-14\\15_9-F-14_log.las\n",
      "Well 15_9-F-15C\n",
      "Reading csv file @ F:\\Course\\PETE 4241\\Projects\\Data\\Drilling\\15_9-F-15C\\15_9-F-15C_testpoints.csv\n",
      "Write Las file @ F:\\Course\\PETE 4241\\Projects\\Data\\Drilling\\15_9-F-15C\\15_9-F-15C_log.las\n",
      "Well 15_9-F-4\n",
      "Reading csv file @ F:\\Course\\PETE 4241\\Projects\\Data\\Drilling\\15_9-F-4\\15_9-F-4_testpoints.csv\n",
      "Write Las file @ F:\\Course\\PETE 4241\\Projects\\Data\\Drilling\\15_9-F-4\\15_9-F-4_log.las\n",
      "Well 15_9-F-5\n",
      "Reading csv file @ F:\\Course\\PETE 4241\\Projects\\Data\\Drilling\\15_9-F-5\\15_9-F-5_test_point.csv\n",
      "Write Las file @ F:\\Course\\PETE 4241\\Projects\\Data\\Drilling\\15_9-F-5\\15_9-F-5_log.las\n"
     ]
    }
   ],
   "source": [
    "for i,csv in enumerate(csvFiles):\n",
    "    print(\"Well\",WellNames[i])\n",
    "    print(\"Reading csv file @\",csv)\n",
    "    df = pd.read_csv(csv, header=[0, 1])\n",
    "    \n",
    "    MD=df.filter(like=\"MD\")\n",
    "    MD_unit=MD.columns.get_level_values(1).values[0]\n",
    "    TVD=df.filter(like=\"TVD\")\n",
    "    TVD_unit=TVD.columns.get_level_values(1).values[0]\n",
    "    assert len(MD.columns)==1, \"Multiple MD columns found!\"\n",
    "    assert len(TVD.columns)==1, \"Multiple TVD columns found!\"\n",
    "    \n",
    "    #print(MD.head(),MD_unit)\n",
    "    #print(TVD.head(),TVD_unit)\n",
    "    las=plm.createLas(WellNames[i],[\"DEPT\",\"DVER\"],[MD.values.flatten(),TVD.values.flatten()],[MD_unit,TVD_unit])\n",
    "    \n",
    "    fpath=os.path.dirname(csv)\n",
    "    fname=WellNames[i]+\"_log.las\"\n",
    "    fname=os.path.join(fpath,fname)\n",
    "    with open(fname, mode=\"w\") as f: # Write LAS file to disk\n",
    "        las.write(f,STEP=10)\n",
    "    print(\"Write Las file @\",fname)"
   ]
  },
  {
   "cell_type": "markdown",
   "metadata": {},
   "source": [
    "### Plot well log curves"
   ]
  },
  {
   "cell_type": "code",
   "execution_count": 5,
   "metadata": {},
   "outputs": [
    {
     "name": "stdout",
     "output_type": "stream",
     "text": [
      "[IO] Found 9 log files\n"
     ]
    },
    {
     "data": {
      "text/html": [
       "<table style=\"display:inline\" border=\"1\" class=\"dataframe\">\n",
       "  <thead>\n",
       "    <tr style=\"text-align: right;\">\n",
       "      <th></th>\n",
       "      <th>FileName</th>\n",
       "      <th>Location</th>\n",
       "    </tr>\n",
       "  </thead>\n",
       "  <tbody>\n",
       "    <tr>\n",
       "      <th>0</th>\n",
       "      <td>15_9-F-11B_MUD_LOG.las</td>\n",
       "      <td>..\\Data\\Drilling\\15_9-F-11B\\15_9-F-11B_MUD_LOG...</td>\n",
       "    </tr>\n",
       "    <tr>\n",
       "      <th>1</th>\n",
       "      <td>15_9-F-12_log.las</td>\n",
       "      <td>..\\Data\\Drilling\\15_9-F-12\\15_9-F-12_log.las</td>\n",
       "    </tr>\n",
       "    <tr>\n",
       "      <th>2</th>\n",
       "      <td>15_9-F-14_log.las</td>\n",
       "      <td>..\\Data\\Drilling\\15_9-F-14\\15_9-F-14_log.las</td>\n",
       "    </tr>\n",
       "    <tr>\n",
       "      <th>3</th>\n",
       "      <td>15_9-F-15C_log.las</td>\n",
       "      <td>..\\Data\\Drilling\\15_9-F-15C\\15_9-F-15C_log.las</td>\n",
       "    </tr>\n",
       "    <tr>\n",
       "      <th>4</th>\n",
       "      <td>15_9-F-15D_MUD_LOG.las</td>\n",
       "      <td>..\\Data\\Drilling\\15_9-F-15D\\15_9-F-15D_MUD_LOG...</td>\n",
       "    </tr>\n",
       "    <tr>\n",
       "      <th>5</th>\n",
       "      <td>15_9-F-1B_MUD_LOG.las</td>\n",
       "      <td>..\\Data\\Drilling\\15_9-F-1B\\15_9-F-1B_MUD_LOG.las</td>\n",
       "    </tr>\n",
       "    <tr>\n",
       "      <th>6</th>\n",
       "      <td>15_9-F-1C_MUD_LOG.las</td>\n",
       "      <td>..\\Data\\Drilling\\15_9-F-1C\\15_9-F-1C_MUD_LOG.las</td>\n",
       "    </tr>\n",
       "    <tr>\n",
       "      <th>7</th>\n",
       "      <td>15_9-F-4_log.las</td>\n",
       "      <td>..\\Data\\Drilling\\15_9-F-4\\15_9-F-4_log.las</td>\n",
       "    </tr>\n",
       "    <tr>\n",
       "      <th>8</th>\n",
       "      <td>15_9-F-5_log.las</td>\n",
       "      <td>..\\Data\\Drilling\\15_9-F-5\\15_9-F-5_log.las</td>\n",
       "    </tr>\n",
       "  </tbody>\n",
       "</table style=\"display:inline\">"
      ]
     },
     "metadata": {},
     "output_type": "display_data"
    }
   ],
   "source": [
    "LogFiles=plm.FileFinder(\"../Data/Drilling\",fext=\".las\")"
   ]
  },
  {
   "cell_type": "code",
   "execution_count": 6,
   "metadata": {},
   "outputs": [
    {
     "name": "stdout",
     "output_type": "stream",
     "text": [
      "[IO] Reading F:\\Course\\PETE 4241\\Projects\\Data\\Drilling\\15_9-F-14\\15_9-F-14_log.las.....\n",
      "[Warnning] Data size (359,92) is in-comptabile with depth/depth_step!\n",
      "Done!\n",
      "\tAuto Depth Range= (145.9, 3729.86) for  ['DEPT', 'DVER']\n"
     ]
    },
    {
     "data": {
      "image/png": "[encoded data removed]",
      "text/plain": [
       "<Figure size 252x720 with 3 Axes>"
      ]
     },
     "metadata": {
      "needs_background": "light"
     },
     "output_type": "display_data"
    }
   ],
   "source": [
    "WellLog=plm.ReadLas(LogFiles[2])\n",
    "\n",
    "#Plot logs with auto depth range\n",
    "MD_range=WellLog.plm_param.MinMaxVal[0]\n",
    "TVD_range=WellLog.plm_param.MinMaxVal[1]\n",
    "Common_range=[min(MD_range+TVD_range),max(MD_range+TVD_range)]\n",
    "Xlim={\"DEPT\":Common_range,\"DVER\":Common_range}\n",
    "fig=plm.plotLogs(LogData=WellLog,CurveNames=[\"DEPT\",\"DVER\"],XLims=Xlim)"
   ]
  },
  {
   "cell_type": "code",
   "execution_count": null,
   "metadata": {},
   "outputs": [],
   "source": []
  }
 ],
 "metadata": {
  "kernelspec": {
   "display_name": "Python 3",
   "language": "python",
   "name": "python3"
  },
  "language_info": {
   "codemirror_mode": {
    "name": "ipython",
    "version": 3
   },
   "file_extension": ".py",
   "mimetype": "text/x-python",
   "name": "python",
   "nbconvert_exporter": "python",
   "pygments_lexer": "ipython3",
   "version": "3.7.0"
  }
 },
 "nbformat": 4,
 "nbformat_minor": 2
}
