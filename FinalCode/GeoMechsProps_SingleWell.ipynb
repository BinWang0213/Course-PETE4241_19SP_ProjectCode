{
 "cells": [
  {
   "cell_type": "code",
   "execution_count": 1,
   "metadata": {},
   "outputs": [],
   "source": [
    "%load_ext autoreload\n",
    "%autoreload 2\n",
    "\n",
    "import os\n",
    "import matplotlib.pyplot as plt\n",
    "import numpy as np\n",
    "from scipy import integrate\n",
    "\n",
    "import PyLasMech as plm"
   ]
  },
  {
   "cell_type": "markdown",
   "metadata": {},
   "source": [
    "### Read well log datas"
   ]
  },
  {
   "cell_type": "code",
   "execution_count": 2,
   "metadata": {},
   "outputs": [
    {
     "name": "stdout",
     "output_type": "stream",
     "text": [
      "[IO] Found 9 log files\n"
     ]
    },
    {
     "data": {
      "text/html": [
       "<table style=\"display:inline\" border=\"1\" class=\"dataframe\">\n",
       "  <thead>\n",
       "    <tr style=\"text-align: right;\">\n",
       "      <th></th>\n",
       "      <th>FileName</th>\n",
       "      <th>Location</th>\n",
       "    </tr>\n",
       "  </thead>\n",
       "  <tbody>\n",
       "    <tr>\n",
       "      <th>0</th>\n",
       "      <td>15_9-F-11B_INPUT.LAS</td>\n",
       "      <td>..\\Data\\Petrophysics\\15_9-F-11B\\15_9-F-11B_INP...</td>\n",
       "    </tr>\n",
       "    <tr>\n",
       "      <th>1</th>\n",
       "      <td>15_9-F-12_INPUT.LAS</td>\n",
       "      <td>..\\Data\\Petrophysics\\15_9-F-12\\15_9-F-12_INPUT...</td>\n",
       "    </tr>\n",
       "    <tr>\n",
       "      <th>2</th>\n",
       "      <td>15_9-F-14_INPUT.las</td>\n",
       "      <td>..\\Data\\Petrophysics\\15_9-F-14\\15_9-F-14_INPUT...</td>\n",
       "    </tr>\n",
       "    <tr>\n",
       "      <th>3</th>\n",
       "      <td>15_9-F-15C_INPUT.las</td>\n",
       "      <td>..\\Data\\Petrophysics\\15_9-F-15C\\15_9-F-15C_INP...</td>\n",
       "    </tr>\n",
       "    <tr>\n",
       "      <th>4</th>\n",
       "      <td>15_9-F-15D_INPUT.LAS</td>\n",
       "      <td>..\\Data\\Petrophysics\\15_9-F-15D\\15_9-F-15D_INP...</td>\n",
       "    </tr>\n",
       "    <tr>\n",
       "      <th>5</th>\n",
       "      <td>15_9-F-1B_INPUT.LAS</td>\n",
       "      <td>..\\Data\\Petrophysics\\15_9-F-1B\\15_9-F-1B_INPUT...</td>\n",
       "    </tr>\n",
       "    <tr>\n",
       "      <th>6</th>\n",
       "      <td>15_9-F-1C_INPUT.LAS</td>\n",
       "      <td>..\\Data\\Petrophysics\\15_9-F-1C\\15_9-F-1C_INPUT...</td>\n",
       "    </tr>\n",
       "    <tr>\n",
       "      <th>7</th>\n",
       "      <td>15_9-F-4_INPUT.las</td>\n",
       "      <td>..\\Data\\Petrophysics\\15_9-F-4\\15_9-F-4_INPUT.las</td>\n",
       "    </tr>\n",
       "    <tr>\n",
       "      <th>8</th>\n",
       "      <td>15_9-F-5_INPUT.las</td>\n",
       "      <td>..\\Data\\Petrophysics\\15_9-F-5\\15_9-F-5_INPUT.las</td>\n",
       "    </tr>\n",
       "  </tbody>\n",
       "</table style=\"display:inline\">"
      ]
     },
     "metadata": {},
     "output_type": "display_data"
    }
   ],
   "source": [
    "LogFiles=plm.FileFinder(\"../Data/Petrophysics\")"
   ]
  },
  {
   "cell_type": "code",
   "execution_count": 3,
   "metadata": {},
   "outputs": [
    {
     "name": "stdout",
     "output_type": "stream",
     "text": [
      "[IO] Reading F:\\Course\\PETE 4241\\Projects\\Data\\Petrophysics\\15_9-F-5\\15_9-F-5_INPUT.las.....\n",
      "Done!\n",
      "[LAS Info]\n",
      "Well Name= 15/9-F-5\n",
      "Start/Step/End Depth=(1382.000000:0.500000:12441.000000)\n",
      "NULL value= -999.25\n",
      "Common Depth= (10652.5, 12356.5)\n"
     ]
    },
    {
     "data": {
      "text/html": [
       "<table style=\"display:inline\" border=\"1\" class=\"dataframe\">\n",
       "  <thead>\n",
       "    <tr style=\"text-align: right;\">\n",
       "      <th></th>\n",
       "      <th>Curves</th>\n",
       "      <th>Available Depth (Non-NULL)</th>\n",
       "      <th>Raw Min/Max Val</th>\n",
       "      <th>Unit</th>\n",
       "      <th>Comments</th>\n",
       "    </tr>\n",
       "  </thead>\n",
       "  <tbody>\n",
       "    <tr>\n",
       "      <th>0</th>\n",
       "      <td>DEPTH:1</td>\n",
       "      <td>[1382.0, 12441.0]</td>\n",
       "      <td>[1382.0, 12441.0]</td>\n",
       "      <td>F</td>\n",
       "      <td>DEPTH (BOREHOLE) {F10.1}</td>\n",
       "    </tr>\n",
       "    <tr>\n",
       "      <th>1</th>\n",
       "      <td>DEPTH:2</td>\n",
       "      <td>[1382.0, 12441.0]</td>\n",
       "      <td>[165840.0, 1492920.0]</td>\n",
       "      <td>.1IN</td>\n",
       "      <td>Measured Depth {I11}</td>\n",
       "    </tr>\n",
       "    <tr>\n",
       "      <th>2</th>\n",
       "      <td>CALI</td>\n",
       "      <td>[10652.5, 12404.0]</td>\n",
       "      <td>[-3932.3931, 8.8083]</td>\n",
       "      <td>INCHES</td>\n",
       "      <td>CALI:UNKNOWN:rC:NONE:v1 {F13.4}</td>\n",
       "    </tr>\n",
       "    <tr>\n",
       "      <th>3</th>\n",
       "      <td>DRHO</td>\n",
       "      <td>[9283.0, 12441.0]</td>\n",
       "      <td>[-4486.7513, 0.52]</td>\n",
       "      <td>g/cm3</td>\n",
       "      <td>DRHO:UNKNOWN:rC:NONE:v1 {F13.4}</td>\n",
       "    </tr>\n",
       "    <tr>\n",
       "      <th>4</th>\n",
       "      <td>DT</td>\n",
       "      <td>[9573.5, 12356.5]</td>\n",
       "      <td>[-4579.9872, 125.3938]</td>\n",
       "      <td>us/ft</td>\n",
       "      <td>DT:UNKNOWN:rC:NONE:v1 {F13.4}</td>\n",
       "    </tr>\n",
       "    <tr>\n",
       "      <th>5</th>\n",
       "      <td>GR</td>\n",
       "      <td>[1382.0, 12441.0]</td>\n",
       "      <td>[5.063, 1707.999]</td>\n",
       "      <td>API</td>\n",
       "      <td>GR:UNKNOWN:rC:NONE:v1 {F13.4}</td>\n",
       "    </tr>\n",
       "    <tr>\n",
       "      <th>6</th>\n",
       "      <td>NPHI</td>\n",
       "      <td>[9283.0, 12441.0]</td>\n",
       "      <td>[-4486.5354, 1.3]</td>\n",
       "      <td>V/V_DECIMAL</td>\n",
       "      <td>NPHI:UNKNOWN:rC:NONE:v1 {F13.4}</td>\n",
       "    </tr>\n",
       "    <tr>\n",
       "      <th>7</th>\n",
       "      <td>RD</td>\n",
       "      <td>[10652.5, 12399.5]</td>\n",
       "      <td>[-3921.1475, 200.0]</td>\n",
       "      <td>UNKNOWN</td>\n",
       "      <td>RD:UNKNOWN:rC:NONE:v1 {F13.4}</td>\n",
       "    </tr>\n",
       "    <tr>\n",
       "      <th>8</th>\n",
       "      <td>RHOB</td>\n",
       "      <td>[9283.0, 12441.0]</td>\n",
       "      <td>[-4492.2977, 3.0392]</td>\n",
       "      <td>g/cm3</td>\n",
       "      <td>RHOB:UNKNOWN:rC:NONE:v1 {F13.4}</td>\n",
       "    </tr>\n",
       "    <tr>\n",
       "      <th>9</th>\n",
       "      <td>RS</td>\n",
       "      <td>[1382.0, 12441.0]</td>\n",
       "      <td>[0.052, 5000.0]</td>\n",
       "      <td>UNKNOWN</td>\n",
       "      <td>RS:UNKNOWN:rC:NONE:v1 {F13.4}</td>\n",
       "    </tr>\n",
       "    <tr>\n",
       "      <th>10</th>\n",
       "      <td>RT</td>\n",
       "      <td>[1382.0, 12441.0]</td>\n",
       "      <td>[0.099, 5000.0]</td>\n",
       "      <td>OHMM</td>\n",
       "      <td>RT:UNKNOWN:rC:NONE:v1 {F13.4}</td>\n",
       "    </tr>\n",
       "  </tbody>\n",
       "</table style=\"display:inline\">"
      ]
     },
     "metadata": {},
     "output_type": "display_data"
    }
   ],
   "source": [
    "WellLog=plm.ReadLas(LogFiles[8])\n",
    "#Print las file summary table\n",
    "plm.printLas(WellLog)"
   ]
  },
  {
   "cell_type": "markdown",
   "metadata": {},
   "source": [
    "### Geomechanical properties calculation"
   ]
  },
  {
   "cell_type": "markdown",
   "metadata": {},
   "source": [
    "> ##### Parameter and unit setup"
   ]
  },
  {
   "cell_type": "code",
   "execution_count": 4,
   "metadata": {},
   "outputs": [],
   "source": [
    "#Unit Converter\n",
    "ft=0.3048 #m\n",
    "g_cm3=1000 #kg/m3\n",
    "g=9.8 #m/s2\n",
    "meter=1\n",
    "mega=1e6 #Mega\n",
    "Pa=1 #Pa\n",
    "us=0.000001 #us, micro seconds\n",
    "psi=6894.76\n",
    "\n",
    "#Basic paramters for Volve field\n",
    "rho_w=1.0*g_cm3  #formation fluid density\n",
    "rho_m=2.65*g_cm3 #rock matrix density\n",
    "z_w=80*meter # ocean water depth @ https://www.offshore-technology.com/projects/volve-oil-field-north-sea/\n",
    "RHOB_avg=1.75*g_cm3 # average bulk density above the reservoir, Z<2576 ft\n",
    "phi0=0.37\n",
    "beta=0.0266*(1/mega*Pa) #convert it unit back to Pa\n",
    "\n",
    "\n",
    "#RHOB DT DTS etc from Log\n",
    "l=WellLog\n",
    "param=l.plm_param\n",
    "GeoMechParams={}\n",
    "\n",
    "\n",
    "#RHOB DT DTS etc from Log\n",
    "NonNanIndex=param.getCommonNonNanIndex(l,[\"RHOB\",\"DT\",\"DTS\"])\n",
    "\n",
    "DZ=l[0][NonNanIndex]\n",
    "#Auto unit setup\n",
    "if(param.Units[0]==\"F\" or param.Units[0]==\"f\"): DZ=DZ*ft\n",
    "elif(param.Units[0]==\"M\" or param.Units[0]==\"m\"): DZ=DZ*meter\n",
    "else:print(\"!!!Unknown Unit!!!!\")\n",
    "    \n",
    "if(\"RHOB\" in param.CurveNames): \n",
    "    RHOB=l[\"RHOB\"][NonNanIndex]\n",
    "    #Auto unit\n",
    "    unit=param.Units[param.getCurveIndex(\"RHOB\")]\n",
    "    if(unit==\"g/cm3\"): RHOB=RHOB*g_cm3\n",
    "    else:print(\"!!!Unknown Unit!!!!\",unit)    \n",
    "if(\"DT\" in param.CurveNames): \n",
    "    DT=l[\"DT\"][NonNanIndex]\n",
    "    #Auto unit\n",
    "    unit=param.Units[param.getCurveIndex(\"DT\")]\n",
    "    if(unit==\"us/ft\"): DT=DT*us/ft\n",
    "    else:print(\"!!!Unknown Unit!!!!\",unit)  \n",
    "if(\"DTS\" in param.CurveNames): \n",
    "    DTS=l[\"DTS\"][NonNanIndex]\n",
    "    #Auto unit\n",
    "    unit=param.Units[param.getCurveIndex(\"DTS\")]\n",
    "    if(unit==\"us/ft\"): DTS=DTS*us/ft\n",
    "    else:print(\"!!!Unknown Unit!!!!\",unit)   "
   ]
  },
  {
   "cell_type": "markdown",
   "metadata": {
    "hideCode": true
   },
   "source": [
    "> ##### Vertical stress & its gradient\n",
    "$$\n",
    "S_v=\\rho _wgz_w+\\bar{\\rho}_bg\\left( z_0-z_w \\right) +\\int_{z_0-z_w}^z{\\rho _b\\left( z \\right) gdz}\n",
    "$$"
   ]
  },
  {
   "cell_type": "code",
   "execution_count": 5,
   "metadata": {},
   "outputs": [
    {
     "name": "stdout",
     "output_type": "stream",
     "text": [
      "+----+-----------------+-----------+\n",
      "|    |   Depth_GOM(km) |   Sv(MPa) |\n",
      "|----+-----------------+-----------|\n",
      "|  0 |         2.918   |   49.4557 |\n",
      "|  1 |         3.00289 |   51.5534 |\n",
      "|  2 |         3.08778 |   53.7105 |\n",
      "|  3 |         3.17266 |   55.836  |\n",
      "|  4 |         3.25755 |   57.9981 |\n",
      "|  5 |         3.34244 |   60.0993 |\n",
      "|  6 |         3.42732 |   62.1809 |\n",
      "|  7 |         3.51221 |   64.2236 |\n",
      "|  8 |         3.5971  |   66.1282 |\n",
      "|  9 |         3.68198 |   68.0295 |\n",
      "+----+-----------------+-----------+\n"
     ]
    }
   ],
   "source": [
    "z_0=DZ[0]\n",
    "\n",
    "#1. Overburden stress\n",
    "Sv0=rho_w*g*z_w+RHOB_avg*g*(z_0-z_w)\n",
    "Sv=[Sv0]+list(Sv0+integrate.cumtrapz(RHOB*g, DZ))\n",
    "GeoMechParams[\"Sv\"]=np.array(Sv)\n",
    "GeoMechParams[\"Sv_grad\"]=GeoMechParams[\"Sv\"]/DZ\n",
    "\n",
    "plm.showTable([DZ/1e3,GeoMechParams[\"Sv\"]/1e6],['Depth_GOM(km)','Sv(MPa)'],preview=10)"
   ]
  },
  {
   "cell_type": "markdown",
   "metadata": {},
   "source": [
    "> ##### Hydrostatic pressure in MPa.  \n",
    "The pore pressure can be calculated as follows:  \n",
    "$${{P}_{p}}={{\\bar{\\rho }}_{w}}g{z} $$"
   ]
  },
  {
   "cell_type": "code",
   "execution_count": 6,
   "metadata": {},
   "outputs": [
    {
     "name": "stdout",
     "output_type": "stream",
     "text": [
      "+----+-----------------+---------------------+\n",
      "|    |   Depth_GOM(km) |   PorePressure(MPa) |\n",
      "|----+-----------------+---------------------|\n",
      "|  0 |         2.918   |             28.5964 |\n",
      "|  1 |         3.00289 |             29.4283 |\n",
      "|  2 |         3.08778 |             30.2602 |\n",
      "|  3 |         3.17266 |             31.0921 |\n",
      "|  4 |         3.25755 |             31.924  |\n",
      "|  5 |         3.34244 |             32.7559 |\n",
      "|  6 |         3.42732 |             33.5878 |\n",
      "|  7 |         3.51221 |             34.4197 |\n",
      "|  8 |         3.5971  |             35.2516 |\n",
      "|  9 |         3.68198 |             36.0834 |\n",
      "+----+-----------------+---------------------+\n"
     ]
    }
   ],
   "source": [
    "GeoMechParams[\"P_pore\"]=rho_w*g*DZ\n",
    "\n",
    "plm.showTable([DZ/1e3,GeoMechParams[\"P_pore\"]/1e6],['Depth_GOM(km)','PorePressure(MPa)'],preview=10)"
   ]
  },
  {
   "cell_type": "markdown",
   "metadata": {},
   "source": [
    "> ##### Rock porosity\n",
    "The rock porosity can be calculated using density log as follows:  \n",
    "$$\n",
    "\\phi =\\frac{\\rho _m-\\rho _b}{\\rho _m-\\rho _w}\n",
    "$$"
   ]
  },
  {
   "cell_type": "code",
   "execution_count": 7,
   "metadata": {},
   "outputs": [
    {
     "name": "stdout",
     "output_type": "stream",
     "text": [
      "+----+-----------------+-------------+\n",
      "|    |   Depth_GOM(km) |    Porosity |\n",
      "|----+-----------------+-------------|\n",
      "|  0 |         2.918   | 0.539394    |\n",
      "|  1 |         3.00289 | 0.00606061  |\n",
      "|  2 |         3.08778 | 0.0424242   |\n",
      "|  3 |         3.17266 | 0.00606061  |\n",
      "|  4 |         3.25755 | 0.0242424   |\n",
      "|  5 |         3.34244 | 0.0849697   |\n",
      "|  6 |         3.42732 | 0.0848485   |\n",
      "|  7 |         3.51221 | 0.193939    |\n",
      "|  8 |         3.5971  | 0.000606061 |\n",
      "|  9 |         3.68198 | 0.26        |\n",
      "+----+-----------------+-------------+\n"
     ]
    }
   ],
   "source": [
    "GeoMechParams[\"PORO\"]=(rho_m-RHOB)/(rho_m-rho_w)\n",
    "\n",
    "plm.showTable([DZ/1e3,GeoMechParams[\"PORO\"]],['Depth_GOM(km)','Porosity'],preview=10)"
   ]
  },
  {
   "cell_type": "markdown",
   "metadata": {},
   "source": [
    "> ##### Porosity by Athy's equation  \n",
    "The effective vertical stress $\\sigma'_v$ can be calculated as follows:\n",
    "$$\\sigma'_v=\\sigma_v - p_p $$\n",
    "The porosity can be calculated as follows:\n",
    "$$\\phi=\\phi_0 e^{-\\beta \\sigma'_v} $$"
   ]
  },
  {
   "cell_type": "code",
   "execution_count": 8,
   "metadata": {},
   "outputs": [
    {
     "name": "stdout",
     "output_type": "stream",
     "text": [
      "+----+-----------------+---------------------+\n",
      "|    |   Depth_GOM(km) |   Effective Sv(MPa) |\n",
      "|----+-----------------+---------------------|\n",
      "|  0 |         2.918   |             20.8593 |\n",
      "|  1 |         3.00289 |             22.1251 |\n",
      "|  2 |         3.08778 |             23.4503 |\n",
      "|  3 |         3.17266 |             24.7439 |\n",
      "|  4 |         3.25755 |             26.0741 |\n",
      "|  5 |         3.34244 |             27.3435 |\n",
      "|  6 |         3.42732 |             28.5932 |\n",
      "|  7 |         3.51221 |             29.8039 |\n",
      "|  8 |         3.5971  |             30.8766 |\n",
      "|  9 |         3.68198 |             31.946  |\n",
      "+----+-----------------+---------------------+\n",
      "+----+-----------------+-----------------+\n",
      "|    |   Depth_GOM(km) |   Porosity_Athy |\n",
      "|----+-----------------+-----------------|\n",
      "|  0 |         2.918   |        0.212437 |\n",
      "|  1 |         3.00289 |        0.205403 |\n",
      "|  2 |         3.08778 |        0.198289 |\n",
      "|  3 |         3.17266 |        0.191582 |\n",
      "|  4 |         3.25755 |        0.184922 |\n",
      "|  5 |         3.34244 |        0.178782 |\n",
      "|  6 |         3.42732 |        0.172937 |\n",
      "|  7 |         3.51221 |        0.167456 |\n",
      "|  8 |         3.5971  |        0.162745 |\n",
      "|  9 |         3.68198 |        0.158181 |\n",
      "+----+-----------------+-----------------+\n"
     ]
    }
   ],
   "source": [
    "Sv_eff=GeoMechParams[\"Sv\"]-GeoMechParams[\"P_pore\"]\n",
    "plm.showTable([DZ/1e3,Sv_eff/1e6],['Depth_GOM(km)','Effective Sv(MPa)'],preview=10)\n",
    "\n",
    "GeoMechParams[\"PORO_Athy\"]=phi0*np.exp(-beta*Sv_eff)\n",
    "plm.showTable([DZ/1e3,GeoMechParams[\"PORO_Athy\"]],['Depth_GOM(km)','Porosity_Athy'],preview=10)"
   ]
  },
  {
   "cell_type": "markdown",
   "metadata": {},
   "source": [
    "> ##### Pore pressure by Athy's equation\n",
    "The Pore pressure by Athy's can be calculated as follows:  \n",
    "$$ p_p = \\sigma_v +\\frac{1}{\\beta}\\ln{\\frac{\\phi}{\\phi_0}} $$"
   ]
  },
  {
   "cell_type": "code",
   "execution_count": 9,
   "metadata": {},
   "outputs": [
    {
     "name": "stdout",
     "output_type": "stream",
     "text": [
      "+----+-----------------+--------------------------+\n",
      "|    |   Depth_GOM(km) |   PorePressure_Athy(MPa) |\n",
      "|----+-----------------+--------------------------|\n",
      "|  0 |         2.918   |                 63.6265  |\n",
      "|  1 |         3.00289 |               -103.022   |\n",
      "|  2 |         3.08778 |                -27.7099  |\n",
      "|  3 |         3.17266 |                -98.7389  |\n",
      "|  4 |         3.25755 |                -44.4605  |\n",
      "|  5 |         3.34244 |                  4.79076 |\n",
      "|  6 |         3.42732 |                  6.81868 |\n",
      "|  7 |         3.51221 |                 39.9395  |\n",
      "|  8 |         3.5971  |               -175.01    |\n",
      "|  9 |         3.68198 |                 54.7655  |\n",
      "+----+-----------------+--------------------------+\n"
     ]
    },
    {
     "name": "stderr",
     "output_type": "stream",
     "text": [
      "c:\\users\\binpc\\appdata\\local\\programs\\python\\python37\\lib\\site-packages\\ipykernel_launcher.py:1: RuntimeWarning: divide by zero encountered in log\n",
      "  \"\"\"Entry point for launching an IPython kernel.\n",
      "c:\\users\\binpc\\appdata\\local\\programs\\python\\python37\\lib\\site-packages\\ipykernel_launcher.py:1: RuntimeWarning: invalid value encountered in log\n",
      "  \"\"\"Entry point for launching an IPython kernel.\n"
     ]
    }
   ],
   "source": [
    "GeoMechParams[\"P_pore_Athy\"]=GeoMechParams[\"Sv\"]+1/beta*np.log(GeoMechParams[\"PORO\"]/phi0)\n",
    "\n",
    "plm.showTable([DZ/1e3,GeoMechParams[\"P_pore_Athy\"]/1e6],['Depth_GOM(km)','PorePressure_Athy(MPa)'],preview=10)"
   ]
  },
  {
   "cell_type": "code",
   "execution_count": 10,
   "metadata": {},
   "outputs": [],
   "source": [
    "#Fix inf -inf value in data\n",
    "for name, data in GeoMechParams.items():\n",
    "        data[data==-np.inf]=np.nan\n",
    "        data[data==np.inf]=np.nan\n",
    "        #GeoMechParams[name]=data"
   ]
  },
  {
   "cell_type": "code",
   "execution_count": 11,
   "metadata": {},
   "outputs": [
    {
     "name": "stdout",
     "output_type": "stream",
     "text": [
      "Input data size(5567) < DEPTH size (22119), NULL value (nan) will be added\n",
      "Input data size(5567) < DEPTH size (22119), NULL value (nan) will be added\n",
      "Input data size(5567) < DEPTH size (22119), NULL value (nan) will be added\n",
      "Input data size(5567) < DEPTH size (22119), NULL value (nan) will be added\n",
      "Input data size(5567) < DEPTH size (22119), NULL value (nan) will be added\n"
     ]
    }
   ],
   "source": [
    "plm.appendCurve(l,'Sv', GeoMechParams[\"Sv\"]/1e6, unit='MPa',descr='PyLasMech overburden stress',dataIndex=NonNanIndex)\n",
    "plm.appendCurve(l,'P_pore', GeoMechParams[\"P_pore\"]/1e6, unit='MPa',descr='PyLasMech pore pressure',dataIndex=NonNanIndex)\n",
    "plm.appendCurve(l,'PORO', GeoMechParams[\"PORO\"], unit='-',descr='PyLasMech porosity',dataIndex=NonNanIndex)\n",
    "plm.appendCurve(l,'PORO_Athy', GeoMechParams[\"PORO_Athy\"], unit='-',descr='PyLasMech porosity from Athy',dataIndex=NonNanIndex)\n",
    "plm.appendCurve(l,'P_pore_Athy', GeoMechParams[\"P_pore_Athy\"]/1e6, unit='MPa',descr='PyLasMech pore pressure from Athy',dataIndex=NonNanIndex)"
   ]
  },
  {
   "cell_type": "markdown",
   "metadata": {},
   "source": [
    "> ##### (b) Shear modulus (G,MPa), Possion ratio and Youngs Modulus (E, MPa) only available for DT/DTS\n",
    "$$\n",
    "G=\\rho_bV_{s}^{2}\n",
    "\\\\\n",
    "\\nu =\\frac{V_{p}^{2}-2V_{s}^{2}}{2\\left( V_{p}^{2}-V_{s}^{2} \\right)}\n",
    "\\\\\n",
    "E=2G\\left( 1+\\nu \\right) \n",
    "$$"
   ]
  },
  {
   "cell_type": "code",
   "execution_count": 12,
   "metadata": {},
   "outputs": [
    {
     "ename": "NameError",
     "evalue": "name 'DTS' is not defined",
     "output_type": "error",
     "traceback": [
      "\u001b[1;31m---------------------------------------------------------------------------\u001b[0m",
      "\u001b[1;31mNameError\u001b[0m                                 Traceback (most recent call last)",
      "\u001b[1;32m<ipython-input-12-6456b00fa5e4>\u001b[0m in \u001b[0;36m<module>\u001b[1;34m\u001b[0m\n\u001b[0;32m      1\u001b[0m \u001b[0mVp\u001b[0m\u001b[1;33m=\u001b[0m\u001b[1;36m1\u001b[0m\u001b[1;33m/\u001b[0m\u001b[0mDT\u001b[0m\u001b[1;33m\u001b[0m\u001b[0m\n\u001b[1;32m----> 2\u001b[1;33m \u001b[0mVs\u001b[0m\u001b[1;33m=\u001b[0m\u001b[1;36m1\u001b[0m\u001b[1;33m/\u001b[0m\u001b[0mDTS\u001b[0m\u001b[1;33m\u001b[0m\u001b[0m\n\u001b[0m\u001b[0;32m      3\u001b[0m \u001b[1;33m\u001b[0m\u001b[0m\n\u001b[0;32m      4\u001b[0m plm.showTable([DZ/1e3,Vp,Vs],\n\u001b[0;32m      5\u001b[0m            ['Depth(km)','$V_p$ (m/s)','$V_s$ (m/s)'])\n",
      "\u001b[1;31mNameError\u001b[0m: name 'DTS' is not defined"
     ]
    }
   ],
   "source": [
    "Vp=1/DT\n",
    "Vs=1/DTS\n",
    "\n",
    "plm.showTable([DZ/1e3,Vp,Vs],\n",
    "           ['Depth(km)','$V_p$ (m/s)','$V_s$ (m/s)'])\n",
    "\n",
    "GeoMechParams[\"G\"]=RHOB*Vs*Vs\n",
    "GeoMechParams[\"v\"]=(Vp**2-2*Vs**2)/2/(Vp**2-Vs**2)\n",
    "GeoMechParams[\"E\"]=2*GeoMechParams[\"G\"]*(1+GeoMechParams[\"v\"]) \n",
    "\n",
    "plm.showTable([DZ/1e3,GeoMechParams[\"G\"]/1e9,GeoMechParams[\"v\"],GeoMechParams[\"E\"]/1e9],['Depth(km)','G(GPa)','v','E(GPa)'])"
   ]
  },
  {
   "cell_type": "code",
   "execution_count": null,
   "metadata": {},
   "outputs": [],
   "source": [
    "GeoMechParams[\"UCS\"]=np.exp(-6.36+2.45*np.log10(0.86*Vp-1172))*mega*Pa\n",
    "plm.showTable([DZ/1e3,GeoMechParams[\"UCS\"]/1e6],['Depth(km)','UCS(MPa)'],preview=10)"
   ]
  },
  {
   "cell_type": "code",
   "execution_count": null,
   "metadata": {},
   "outputs": [],
   "source": [
    "#Fix inf -inf value in data\n",
    "for name, data in GeoMechParams.items():\n",
    "        data[data==-np.inf]=np.nan\n",
    "        data[data==np.inf]=np.nan\n",
    "        #GeoMechParams[name]=data\n",
    "\n",
    "#plm.appendCurve(l,'G', GeoMechParams[\"G\"]/1e9, unit='GPa',descr='PyLasMech Bulk modulus',dataIndex=NonNanIndex)\n",
    "plm.appendCurve(l,'v', GeoMechParams[\"v\"], unit='-',descr='PyLasMech possion ratio',dataIndex=NonNanIndex)\n",
    "plm.appendCurve(l,'E', GeoMechParams[\"E\"]/1e9, unit='GPa',descr='PyLasMech Youngs modulus',dataIndex=NonNanIndex)\n",
    "plm.appendCurve(l,'UCS', GeoMechParams[\"UCS\"]/1e6, unit='MPa',descr='PyLasMech UCS',dataIndex=NonNanIndex)"
   ]
  },
  {
   "cell_type": "markdown",
   "metadata": {},
   "source": [
    "### Plot and visulization"
   ]
  },
  {
   "cell_type": "code",
   "execution_count": 13,
   "metadata": {},
   "outputs": [
    {
     "name": "stdout",
     "output_type": "stream",
     "text": [
      "\tAuto Depth Range= (9573.5, 12356.5) for  ['Sv', 'P_pore', 'PORO', 'PORO_Athy', 'P_pore_Athy']\n",
      "\t P_pore_Athy Corrected Min/Max Val [-268.57152876867116, 83.29910296659935]\n"
     ]
    },
    {
     "data": {
      "image/png": "[encoded data removed]",
      "text/plain": [
       "<Figure size 756x720 with 8 Axes>"
      ]
     },
     "metadata": {
      "needs_background": "light"
     },
     "output_type": "display_data"
    }
   ],
   "source": [
    "XLims={\"P_pore\":(10,90),\"Sv\":(10,90),\"PORO_Athy\":(0,0.5),\"PORO\":(0,0.5)}\n",
    "fig=plm.plotLogs(LogData=l,CurveNames=GeoMechParams.keys(),XLims=XLims)"
   ]
  },
  {
   "cell_type": "code",
   "execution_count": null,
   "metadata": {},
   "outputs": [],
   "source": []
  }
 ],
 "metadata": {
  "kernelspec": {
   "display_name": "Python 3",
   "language": "python",
   "name": "python3"
  },
  "language_info": {
   "codemirror_mode": {
    "name": "ipython",
    "version": 3
   },
   "file_extension": ".py",
   "mimetype": "text/x-python",
   "name": "python",
   "nbconvert_exporter": "python",
   "pygments_lexer": "ipython3",
   "version": "3.7.0"
  }
 },
 "nbformat": 4,
 "nbformat_minor": 2
}
