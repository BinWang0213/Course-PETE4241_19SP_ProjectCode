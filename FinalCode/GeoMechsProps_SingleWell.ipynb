{
 "cells": [
  {
   "cell_type": "code",
   "execution_count": 1,
   "metadata": {},
   "outputs": [],
   "source": [
    "%load_ext autoreload\n",
    "%autoreload 2\n",
    "\n",
    "import os\n",
    "import matplotlib.pyplot as plt\n",
    "import numpy as np\n",
    "from scipy import integrate\n",
    "\n",
    "import PyLasMech as plm"
   ]
  },
  {
   "cell_type": "markdown",
   "metadata": {},
   "source": [
    "### Read well log datas"
   ]
  },
  {
   "cell_type": "code",
   "execution_count": 2,
   "metadata": {},
   "outputs": [
    {
     "name": "stdout",
     "output_type": "stream",
     "text": [
      "[IO] Found 9 log files\n"
     ]
    },
    {
     "data": {
      "text/html": [
       "<table style=\"display:inline\" border=\"1\" class=\"dataframe\">\n",
       "  <thead>\n",
       "    <tr style=\"text-align: right;\">\n",
       "      <th></th>\n",
       "      <th>FileName</th>\n",
       "      <th>Location</th>\n",
       "    </tr>\n",
       "  </thead>\n",
       "  <tbody>\n",
       "    <tr>\n",
       "      <th>0</th>\n",
       "      <td>15_9-F-1 B_TVDlog.las</td>\n",
       "      <td>..\\Data\\PetrophysicsTVD\\15_9-F-1 B_TVDlog.las</td>\n",
       "    </tr>\n",
       "    <tr>\n",
       "      <th>1</th>\n",
       "      <td>15_9-F-1 C_TVDlog.las</td>\n",
       "      <td>..\\Data\\PetrophysicsTVD\\15_9-F-1 C_TVDlog.las</td>\n",
       "    </tr>\n",
       "    <tr>\n",
       "      <th>2</th>\n",
       "      <td>15_9-F-11 B_TVDlog.las</td>\n",
       "      <td>..\\Data\\PetrophysicsTVD\\15_9-F-11 B_TVDlog.las</td>\n",
       "    </tr>\n",
       "    <tr>\n",
       "      <th>3</th>\n",
       "      <td>15_9-F-12_TVDlog.las</td>\n",
       "      <td>..\\Data\\PetrophysicsTVD\\15_9-F-12_TVDlog.las</td>\n",
       "    </tr>\n",
       "    <tr>\n",
       "      <th>4</th>\n",
       "      <td>15_9-F-14_TVDlog.las</td>\n",
       "      <td>..\\Data\\PetrophysicsTVD\\15_9-F-14_TVDlog.las</td>\n",
       "    </tr>\n",
       "    <tr>\n",
       "      <th>5</th>\n",
       "      <td>15_9-F-15 C_TVDlog.las</td>\n",
       "      <td>..\\Data\\PetrophysicsTVD\\15_9-F-15 C_TVDlog.las</td>\n",
       "    </tr>\n",
       "    <tr>\n",
       "      <th>6</th>\n",
       "      <td>15_9-F-15 D_TVDlog.las</td>\n",
       "      <td>..\\Data\\PetrophysicsTVD\\15_9-F-15 D_TVDlog.las</td>\n",
       "    </tr>\n",
       "    <tr>\n",
       "      <th>7</th>\n",
       "      <td>15_9-F-4_TVDlog.las</td>\n",
       "      <td>..\\Data\\PetrophysicsTVD\\15_9-F-4_TVDlog.las</td>\n",
       "    </tr>\n",
       "    <tr>\n",
       "      <th>8</th>\n",
       "      <td>15_9-F-5_TVDlog.las</td>\n",
       "      <td>..\\Data\\PetrophysicsTVD\\15_9-F-5_TVDlog.las</td>\n",
       "    </tr>\n",
       "  </tbody>\n",
       "</table style=\"display:inline\">"
      ]
     },
     "metadata": {},
     "output_type": "display_data"
    }
   ],
   "source": [
    "LogFiles=plm.FileFinder(\"../Data/PetrophysicsTVD\")"
   ]
  },
  {
   "cell_type": "code",
   "execution_count": 24,
   "metadata": {},
   "outputs": [
    {
     "name": "stdout",
     "output_type": "stream",
     "text": [
      "[IO] Reading F:\\Course\\PETE 4241\\Projects\\Data\\PetrophysicsTVD\\15_9-F-12_TVDlog.las.....\n",
      "[Warnning] Data size (25898,25899) is in-comptabile with depth/depth_step!\n",
      "Done!\n",
      "[LAS Info]\n",
      "Well Name= 15_9-F-12\n",
      "Start/Step/End Depth=(239.877600:0.152400:4186.732800)\n",
      "NULL value= -999.25\n",
      "Common Depth= (3102.102, 3442.5636)\n"
     ]
    },
    {
     "data": {
      "text/html": [
       "<table style=\"display:inline\" border=\"1\" class=\"dataframe\">\n",
       "  <thead>\n",
       "    <tr style=\"text-align: right;\">\n",
       "      <th></th>\n",
       "      <th>Curves</th>\n",
       "      <th>Available Depth (Non-NULL)</th>\n",
       "      <th>Raw Min/Max Val</th>\n",
       "      <th>Unit</th>\n",
       "      <th>Comments</th>\n",
       "    </tr>\n",
       "  </thead>\n",
       "  <tbody>\n",
       "    <tr>\n",
       "      <th>0</th>\n",
       "      <td>DEPTH</td>\n",
       "      <td>[239.8776, 4186.7328]</td>\n",
       "      <td>[239.8776, 4186.7328]</td>\n",
       "      <td>m</td>\n",
       "      <td>Measured Depth</td>\n",
       "    </tr>\n",
       "    <tr>\n",
       "      <th>1</th>\n",
       "      <td>CARB_FLAG</td>\n",
       "      <td>[3102.102, 3519.9828]</td>\n",
       "      <td>[0.0, 1.0]</td>\n",
       "      <td>UNKNOWN</td>\n",
       "      <td>CARB_FLAG:UNKNOWN:rC:NONE:v1</td>\n",
       "    </tr>\n",
       "    <tr>\n",
       "      <th>2</th>\n",
       "      <td>COAL_FLAG</td>\n",
       "      <td>[3102.102, 3505.3524]</td>\n",
       "      <td>[0.0, 0.0]</td>\n",
       "      <td>UNKNOWN</td>\n",
       "      <td>COAL_FLAG:UNKNOWN:rC:NONE:v1</td>\n",
       "    </tr>\n",
       "    <tr>\n",
       "      <th>3</th>\n",
       "      <td>DT</td>\n",
       "      <td>[1368.7044, 3442.5636]</td>\n",
       "      <td>[-68.8278, 161.0148]</td>\n",
       "      <td>us/ft</td>\n",
       "      <td>DT:UNKNOWN:rC:NONE:v2</td>\n",
       "    </tr>\n",
       "    <tr>\n",
       "      <th>4</th>\n",
       "      <td>GR</td>\n",
       "      <td>[240.3348, 4186.7328]</td>\n",
       "      <td>[10.6888, 179.8782]</td>\n",
       "      <td>API</td>\n",
       "      <td>GR:UNKNOWN:rC:NONE:v1</td>\n",
       "    </tr>\n",
       "    <tr>\n",
       "      <th>5</th>\n",
       "      <td>NPHI</td>\n",
       "      <td>[717.6516, 3505.3524]</td>\n",
       "      <td>[0.0282, 1.5057]</td>\n",
       "      <td>v/v_decimal</td>\n",
       "      <td>NPHI:UNKNOWN:rC:NONE:v1</td>\n",
       "    </tr>\n",
       "    <tr>\n",
       "      <th>6</th>\n",
       "      <td>RD</td>\n",
       "      <td>[239.8776, 3505.962]</td>\n",
       "      <td>[0.1, 1319.27404]</td>\n",
       "      <td>UNKNOWN</td>\n",
       "      <td>RD:UNKNOWN:rC:NONE:v1</td>\n",
       "    </tr>\n",
       "    <tr>\n",
       "      <th>7</th>\n",
       "      <td>RHOB</td>\n",
       "      <td>[1349.9592, 3507.486]</td>\n",
       "      <td>[1.3568, 2.9392]</td>\n",
       "      <td>g/cm3</td>\n",
       "      <td>RHOB:UNKNOWN:rC:NONE:v1</td>\n",
       "    </tr>\n",
       "    <tr>\n",
       "      <th>8</th>\n",
       "      <td>ROP5_RM</td>\n",
       "      <td>[239.8776, 3519.3732]</td>\n",
       "      <td>[1.2421, 211.00751]</td>\n",
       "      <td>UNKNOWN</td>\n",
       "      <td>ROP5_RM:UNKNOWN:rC:NONE:v1</td>\n",
       "    </tr>\n",
       "    <tr>\n",
       "      <th>9</th>\n",
       "      <td>RS</td>\n",
       "      <td>[239.8776, 3505.962]</td>\n",
       "      <td>[0.1, 5000.0]</td>\n",
       "      <td>UNKNOWN</td>\n",
       "      <td>RS:UNKNOWN:rC:NONE:v1</td>\n",
       "    </tr>\n",
       "    <tr>\n",
       "      <th>10</th>\n",
       "      <td>RT</td>\n",
       "      <td>[239.8776, 3505.962]</td>\n",
       "      <td>[0.1, 5000.0]</td>\n",
       "      <td>ohm.m</td>\n",
       "      <td>RT:UNKNOWN:rC:NONE:v1</td>\n",
       "    </tr>\n",
       "    <tr>\n",
       "      <th>11</th>\n",
       "      <td>SAND_FLAG</td>\n",
       "      <td>[3102.102, 3505.962]</td>\n",
       "      <td>[0.0, 1.0]</td>\n",
       "      <td>UNKNOWN</td>\n",
       "      <td>SAND_FLAG:UNKNOWN:rC:NONE:v1</td>\n",
       "    </tr>\n",
       "    <tr>\n",
       "      <th>12</th>\n",
       "      <td>TVD</td>\n",
       "      <td>[239.8776, 3495.4464]</td>\n",
       "      <td>[239.8776, 3091.72547]</td>\n",
       "      <td>m</td>\n",
       "      <td>True Vertical Depth from PyLasMech</td>\n",
       "    </tr>\n",
       "  </tbody>\n",
       "</table style=\"display:inline\">"
      ]
     },
     "metadata": {},
     "output_type": "display_data"
    }
   ],
   "source": [
    "WellLog=plm.ReadLas(LogFiles[3])\n",
    "#Print las file summary table\n",
    "plm.printLas(WellLog)"
   ]
  },
  {
   "cell_type": "markdown",
   "metadata": {},
   "source": [
    "### Geomechanical properties calculation"
   ]
  },
  {
   "cell_type": "markdown",
   "metadata": {},
   "source": [
    "> ##### Parameter and unit setup"
   ]
  },
  {
   "cell_type": "code",
   "execution_count": 25,
   "metadata": {},
   "outputs": [
    {
     "name": "stdout",
     "output_type": "stream",
     "text": [
      "RHOB [Warning] has 207 NAN values in between\n",
      "DT [Warning] has 532 NAN values in between\n"
     ]
    }
   ],
   "source": [
    "#Unit Converter\n",
    "ft=0.3048 #m\n",
    "g_cm3=1000 #kg/m3\n",
    "g=9.8 #m/s2\n",
    "meter=1\n",
    "mega=1e6 #Mega\n",
    "Pa=1 #Pa\n",
    "us=0.000001 #us, micro seconds\n",
    "psi=6894.76\n",
    "\n",
    "#Basic paramters for Volve field\n",
    "rho_w=1.0*g_cm3  #formation fluid density\n",
    "rho_m=2.65*g_cm3 #rock matrix density\n",
    "z_w=80*meter # ocean water depth @ https://www.offshore-technology.com/projects/volve-oil-field-north-sea/\n",
    "RHOB_avg=1.75*g_cm3 # average bulk density above the reservoir, Z<2576 ft\n",
    "phi0=0.37\n",
    "beta=0.0266*(1/mega*Pa) #convert it unit back to Pa\n",
    "\n",
    "\n",
    "#RHOB DT DTS etc from Log\n",
    "l=WellLog\n",
    "param=l.plm_param\n",
    "GeoMechParams={}\n",
    "\n",
    "\n",
    "#RHOB DT DTS etc from Log\n",
    "NonNanIndex=param.getCommonNonNanIndex(l,[\"RHOB\",\"DT\",\"DTS\",\"TVD\"])\n",
    "\n",
    "DZ=l[\"TVD\"][NonNanIndex]\n",
    "#Auto unit setup\n",
    "DZ_unit=param.Units[param.getCurveIndex(\"TVD\")]\n",
    "if(DZ_unit.lower()==\"ft\"): DZ=DZ*ft\n",
    "elif(DZ_unit.lower()==\"m\"): DZ=DZ*meter\n",
    "else:print(\"!!!Unknown Unit!!!!\")\n",
    "    \n",
    "if(\"RHOB\" in param.CurveNames): \n",
    "    RHOB=l[\"RHOB\"][NonNanIndex]\n",
    "    #Auto unit\n",
    "    unit=param.Units[param.getCurveIndex(\"RHOB\")]\n",
    "    if(unit==\"g/cm3\"): RHOB=RHOB*g_cm3\n",
    "    else:print(\"!!!Unknown Unit!!!!\",unit)    \n",
    "if(\"DT\" in param.CurveNames): \n",
    "    DT=l[\"DT\"][NonNanIndex]\n",
    "    #Auto unit\n",
    "    unit=param.Units[param.getCurveIndex(\"DT\")]\n",
    "    if(unit==\"us/ft\"): DT=DT*us/ft\n",
    "    else:print(\"!!!Unknown Unit!!!!\",unit)  \n",
    "if(\"DTS\" in param.CurveNames): \n",
    "    DTS=l[\"DTS\"][NonNanIndex]\n",
    "    #Auto unit\n",
    "    unit=param.Units[param.getCurveIndex(\"DTS\")]\n",
    "    if(unit==\"us/ft\"): DTS=DTS*us/ft\n",
    "    else:print(\"!!!Unknown Unit!!!!\",unit)   "
   ]
  },
  {
   "cell_type": "markdown",
   "metadata": {
    "hideCode": true
   },
   "source": [
    "> ##### Principle stress & its gradient\n",
    "$$\n",
    "S_v=\\rho _wgz_w+\\bar{\\rho}_bg\\left( z_0-z_w \\right) +\\int_{z_0-z_w}^z{\\rho _b\\left( z \\right) gdz}\n",
    "$$\n",
    "$$\n",
    "S_{hmin}=0.84S_v\n",
    "$$\n",
    "$$\n",
    "S_{hmax}=0.89S_v\n",
    "$$"
   ]
  },
  {
   "cell_type": "code",
   "execution_count": 26,
   "metadata": {},
   "outputs": [
    {
     "name": "stdout",
     "output_type": "stream",
     "text": [
      "|    |   Depth_GOM(km) |   Sv(MPa) |   Shmin(MPa) |   Shmax(MPa) |\n",
      "|----|-----------------|-----------|--------------|--------------|\n",
      "|  0 |         1.3444  |   22.4685 |      18.8735 |      19.9969 |\n",
      "|  1 |         1.53881 |   26.1425 |      21.9597 |      23.2668 |\n",
      "|  2 |         1.72939 |   29.7496 |      24.9897 |      26.4772 |\n",
      "|  3 |         1.91989 |   33.5357 |      28.17   |      29.8468 |\n",
      "|  4 |         2.12031 |   37.6195 |      31.6004 |      33.4813 |\n",
      "|  5 |         2.32405 |   41.3757 |      34.7555 |      36.8243 |\n",
      "|  6 |         2.51895 |   45.2753 |      38.0313 |      40.2951 |\n",
      "|  7 |         2.68693 |   49.0021 |      41.1618 |      43.6119 |\n",
      "|  8 |         2.81388 |   51.905  |      43.6002 |      46.1954 |\n",
      "|  9 |         2.93556 |   54.6672 |      45.9205 |      48.6538 |\n"
     ]
    }
   ],
   "source": [
    "z_0=DZ[0]\n",
    "\n",
    "#1. Overburden stress\n",
    "Sv0=rho_w*g*z_w+RHOB_avg*g*(z_0-z_w)\n",
    "Sv=[Sv0]+list(Sv0+integrate.cumtrapz(RHOB*g, DZ))\n",
    "GeoMechParams[\"Sv\"]=np.array(Sv)\n",
    "GeoMechParams[\"Sv_grad\"]=GeoMechParams[\"Sv\"]/DZ\n",
    "\n",
    "GeoMechParams[\"Shmin\"]=0.84*GeoMechParams[\"Sv\"]\n",
    "GeoMechParams[\"Shmax\"]=0.89*GeoMechParams[\"Sv\"]\n",
    "\n",
    "plm.showTable([DZ/1e3,GeoMechParams[\"Sv\"]/1e6,GeoMechParams[\"Shmin\"]/1e6,GeoMechParams[\"Shmax\"]/1e6],\n",
    "              ['Depth_GOM(km)','Sv(MPa)','Shmin(MPa)','Shmax(MPa)'],preview=10)"
   ]
  },
  {
   "cell_type": "markdown",
   "metadata": {},
   "source": [
    "> ##### Hydrostatic pressure in MPa.  \n",
    "The pore pressure can be calculated as follows:  \n",
    "$${{P}_{p}}={{\\bar{\\rho }}_{w}}g{z} $$"
   ]
  },
  {
   "cell_type": "code",
   "execution_count": 27,
   "metadata": {},
   "outputs": [
    {
     "name": "stdout",
     "output_type": "stream",
     "text": [
      "|    |   Depth_GOM(km) |   PorePressure(MPa) |\n",
      "|----|-----------------|---------------------|\n",
      "|  0 |         1.3444  |             13.1751 |\n",
      "|  1 |         1.53881 |             15.0803 |\n",
      "|  2 |         1.72939 |             16.948  |\n",
      "|  3 |         1.91989 |             18.8149 |\n",
      "|  4 |         2.12031 |             20.779  |\n",
      "|  5 |         2.32405 |             22.7757 |\n",
      "|  6 |         2.51895 |             24.6857 |\n",
      "|  7 |         2.68693 |             26.332  |\n",
      "|  8 |         2.81388 |             27.576  |\n",
      "|  9 |         2.93556 |             28.7685 |\n"
     ]
    }
   ],
   "source": [
    "GeoMechParams[\"P_pore\"]=rho_w*g*DZ\n",
    "\n",
    "plm.showTable([DZ/1e3,GeoMechParams[\"P_pore\"]/1e6],['Depth_GOM(km)','PorePressure(MPa)'],preview=10)"
   ]
  },
  {
   "cell_type": "markdown",
   "metadata": {},
   "source": [
    "> ##### Rock porosity\n",
    "The rock porosity can be calculated using density log as follows:  \n",
    "$$\n",
    "\\phi =\\frac{\\rho _m-\\rho _b}{\\rho _m-\\rho _w}\n",
    "$$"
   ]
  },
  {
   "cell_type": "code",
   "execution_count": 28,
   "metadata": {},
   "outputs": [
    {
     "name": "stdout",
     "output_type": "stream",
     "text": [
      "|    |   Depth_GOM(km) |   Porosity |\n",
      "|----|-----------------|------------|\n",
      "|  0 |         1.3444  |   0.562909 |\n",
      "|  1 |         1.53881 |   0.388606 |\n",
      "|  2 |         1.72939 |   0.46103  |\n",
      "|  3 |         1.91989 |   0.332182 |\n",
      "|  4 |         2.12031 |   0.373879 |\n",
      "|  5 |         2.32405 |   0.480606 |\n",
      "|  6 |         2.51895 |   0.269879 |\n",
      "|  7 |         2.68693 |   0.240303 |\n",
      "|  8 |         2.81388 |   0.222667 |\n",
      "|  9 |         2.93556 |   0.267818 |\n"
     ]
    }
   ],
   "source": [
    "GeoMechParams[\"PORO\"]=(rho_m-RHOB)/(rho_m-rho_w)\n",
    "\n",
    "plm.showTable([DZ/1e3,GeoMechParams[\"PORO\"]],['Depth_GOM(km)','Porosity'],preview=10)"
   ]
  },
  {
   "cell_type": "markdown",
   "metadata": {},
   "source": [
    "> ##### Porosity by Athy's equation  \n",
    "The effective vertical stress $\\sigma'_v$ can be calculated as follows:\n",
    "$$\\sigma'_v=\\sigma_v - p_p $$\n",
    "The porosity can be calculated as follows:\n",
    "$$\\phi=\\phi_0 e^{-\\beta \\sigma'_v} $$"
   ]
  },
  {
   "cell_type": "code",
   "execution_count": 29,
   "metadata": {},
   "outputs": [
    {
     "name": "stdout",
     "output_type": "stream",
     "text": [
      "|    |   Depth_GOM(km) |   Effective Sv(MPa) |\n",
      "|----|-----------------|---------------------|\n",
      "|  0 |         1.3444  |             9.29334 |\n",
      "|  1 |         1.53881 |            11.0622  |\n",
      "|  2 |         1.72939 |            12.8016  |\n",
      "|  3 |         1.91989 |            14.7208  |\n",
      "|  4 |         2.12031 |            16.8404  |\n",
      "|  5 |         2.32405 |            18.5999  |\n",
      "|  6 |         2.51895 |            20.5896  |\n",
      "|  7 |         2.68693 |            22.6702  |\n",
      "|  8 |         2.81388 |            24.329   |\n",
      "|  9 |         2.93556 |            25.8988  |\n",
      "|    |   Depth_GOM(km) |   Porosity_Athy |\n",
      "|----|-----------------|-----------------|\n",
      "|  0 |         1.3444  |        0.288963 |\n",
      "|  1 |         1.53881 |        0.275682 |\n",
      "|  2 |         1.72939 |        0.263218 |\n",
      "|  3 |         1.91989 |        0.250117 |\n",
      "|  4 |         2.12031 |        0.236405 |\n",
      "|  5 |         2.32405 |        0.225596 |\n",
      "|  6 |         2.51895 |        0.213966 |\n",
      "|  7 |         2.68693 |        0.202447 |\n",
      "|  8 |         2.81388 |        0.193708 |\n",
      "|  9 |         2.93556 |        0.185786 |\n"
     ]
    }
   ],
   "source": [
    "Sv_eff=GeoMechParams[\"Sv\"]-GeoMechParams[\"P_pore\"]\n",
    "plm.showTable([DZ/1e3,Sv_eff/1e6],['Depth_GOM(km)','Effective Sv(MPa)'],preview=10)\n",
    "\n",
    "GeoMechParams[\"PORO_Athy\"]=phi0*np.exp(-beta*Sv_eff)\n",
    "plm.showTable([DZ/1e3,GeoMechParams[\"PORO_Athy\"]],['Depth_GOM(km)','Porosity_Athy'],preview=10)"
   ]
  },
  {
   "cell_type": "markdown",
   "metadata": {},
   "source": [
    "> ##### Pore pressure by Athy's equation\n",
    "The Pore pressure by Athy's can be calculated as follows:  \n",
    "$$ p_p = \\sigma_v +\\frac{1}{\\beta}\\ln{\\frac{\\phi}{\\phi_0}} $$"
   ]
  },
  {
   "cell_type": "code",
   "execution_count": 30,
   "metadata": {},
   "outputs": [
    {
     "name": "stdout",
     "output_type": "stream",
     "text": [
      "|    |   Depth_GOM(km) |   PorePressure_Athy(MPa) |\n",
      "|----|-----------------|--------------------------|\n",
      "|  0 |         1.3444  |                  38.2435 |\n",
      "|  1 |         1.53881 |                  27.987  |\n",
      "|  2 |         1.72939 |                  38.0188 |\n",
      "|  3 |         1.91989 |                  29.4823 |\n",
      "|  4 |         2.12031 |                  38.0115 |\n",
      "|  5 |         2.32405 |                  51.2082 |\n",
      "|  6 |         2.51895 |                  33.4133 |\n",
      "|  7 |         2.68693 |                  32.7765 |\n",
      "|  8 |         2.81388 |                  32.8137 |\n",
      "|  9 |         2.93556 |                  42.5171 |\n"
     ]
    },
    {
     "name": "stderr",
     "output_type": "stream",
     "text": [
      "c:\\users\\binpc\\appdata\\local\\programs\\python\\python37\\lib\\site-packages\\ipykernel_launcher.py:1: RuntimeWarning: invalid value encountered in log\n",
      "  \"\"\"Entry point for launching an IPython kernel.\n"
     ]
    }
   ],
   "source": [
    "GeoMechParams[\"P_pore_Athy\"]=GeoMechParams[\"Sv\"]+1/beta*np.log(GeoMechParams[\"PORO\"]/phi0)\n",
    "\n",
    "plm.showTable([DZ/1e3,GeoMechParams[\"P_pore_Athy\"]/1e6],['Depth_GOM(km)','PorePressure_Athy(MPa)'],preview=10)"
   ]
  },
  {
   "cell_type": "code",
   "execution_count": 31,
   "metadata": {},
   "outputs": [],
   "source": [
    "#Fix inf -inf value in data\n",
    "for name, data in GeoMechParams.items():\n",
    "        data[data==-np.inf]=np.nan\n",
    "        data[data==np.inf]=np.nan\n",
    "        #GeoMechParams[name]=data"
   ]
  },
  {
   "cell_type": "code",
   "execution_count": 32,
   "metadata": {},
   "outputs": [
    {
     "name": "stdout",
     "output_type": "stream",
     "text": [
      "Input data size(13609) < DEPTH size (25899), NULL value (nan) will be added\n",
      "Input data size(13609) < DEPTH size (25899), NULL value (nan) will be added\n",
      "Input data size(13609) < DEPTH size (25899), NULL value (nan) will be added\n",
      "Input data size(13609) < DEPTH size (25899), NULL value (nan) will be added\n",
      "Input data size(13609) < DEPTH size (25899), NULL value (nan) will be added\n",
      "Input data size(13609) < DEPTH size (25899), NULL value (nan) will be added\n",
      "Input data size(13609) < DEPTH size (25899), NULL value (nan) will be added\n"
     ]
    }
   ],
   "source": [
    "plm.appendCurve(l,'Sv', GeoMechParams[\"Sv\"]/1e6, unit='MPa',descr='PyLasMech overburden stress',dataIndex=NonNanIndex)\n",
    "plm.appendCurve(l,'Shmin', GeoMechParams[\"Shmin\"]/1e6, unit='MPa',descr='PyLasMech min horizontal stress',dataIndex=NonNanIndex)\n",
    "plm.appendCurve(l,'Shmax', GeoMechParams[\"Shmax\"]/1e6, unit='MPa',descr='PyLasMech max horizontal stress',dataIndex=NonNanIndex)\n",
    "\n",
    "plm.appendCurve(l,'PORO', GeoMechParams[\"PORO\"], unit='-',descr='PyLasMech porosity',dataIndex=NonNanIndex)\n",
    "plm.appendCurve(l,'PORO_Athy', GeoMechParams[\"PORO_Athy\"], unit='-',descr='PyLasMech porosity from Athy',dataIndex=NonNanIndex)\n",
    "plm.appendCurve(l,'P_pore', GeoMechParams[\"P_pore\"]/1e6, unit='MPa',descr='PyLasMech pore pressure',dataIndex=NonNanIndex)\n",
    "plm.appendCurve(l,'P_pore_Athy', GeoMechParams[\"P_pore_Athy\"]/1e6, unit='MPa',descr='PyLasMech pore pressure from Athy',dataIndex=NonNanIndex)"
   ]
  },
  {
   "cell_type": "markdown",
   "metadata": {},
   "source": [
    "> ##### Shear modulus (G,MPa), Possion ratio and Youngs Modulus (E, MPa) only available for DT/DTS\n",
    "$$\n",
    "G=\\rho_bV_{s}^{2}\n",
    "\\\\\n",
    "\\nu =\\frac{V_{p}^{2}-2V_{s}^{2}}{2\\left( V_{p}^{2}-V_{s}^{2} \\right)}\n",
    "\\\\\n",
    "E=2G\\left( 1+\\nu \\right) \n",
    "$$"
   ]
  },
  {
   "cell_type": "code",
   "execution_count": 33,
   "metadata": {},
   "outputs": [],
   "source": [
    "if(\"DT\" in param.CurveNames and \"DTS\" in param.CurveNames):\n",
    "    Vp=1/DT\n",
    "    Vs=1/DTS\n",
    "\n",
    "    plm.showTable([DZ/1e3,Vp,Vs],\n",
    "               ['Depth(km)','$V_p$ (m/s)','$V_s$ (m/s)'])\n",
    "\n",
    "    GeoMechParams[\"G\"]=RHOB*Vs*Vs\n",
    "    GeoMechParams[\"v\"]=(Vp**2-2*Vs**2)/2/(Vp**2-Vs**2)\n",
    "    GeoMechParams[\"E\"]=2*GeoMechParams[\"G\"]*(1+GeoMechParams[\"v\"]) \n",
    "\n",
    "    plm.showTable([DZ/1e3,GeoMechParams[\"G\"]/1e9,GeoMechParams[\"v\"],GeoMechParams[\"E\"]/1e9],['Depth(km)','G(GPa)','v','E(GPa)'])"
   ]
  },
  {
   "cell_type": "markdown",
   "metadata": {},
   "source": [
    "> ##### Unconfined Compressive Strength (UCS)\n",
    "$$\n",
    "UCS=e^{-6.36+\\text{2.45}\\log \\left( 0.86V_p-1172 \\right)}\n",
    "$$\n",
    "When compressive wave velocity is not available the following correlation is used:\n",
    "$$\n",
    "UCS=2.922\\phi ^{-0.96}\n",
    "$$\n"
   ]
  },
  {
   "cell_type": "code",
   "execution_count": 40,
   "metadata": {},
   "outputs": [
    {
     "name": "stdout",
     "output_type": "stream",
     "text": [
      "|    |   Depth(km) |   UCS(MPa) |\n",
      "|----|-------------|------------|\n",
      "|  0 |     1.3444  |    1.40823 |\n",
      "|  1 |     1.53881 |    1.95676 |\n",
      "|  2 |     1.72939 |    2.1445  |\n",
      "|  3 |     1.91989 |    2.17886 |\n",
      "|  4 |     2.12031 |    3.74815 |\n",
      "|  5 |     2.32405 |    2.88574 |\n",
      "|  6 |     2.51895 |    4.85611 |\n",
      "|  7 |     2.68693 |    7.13196 |\n",
      "|  8 |     2.81388 |    7.28947 |\n",
      "|  9 |     2.93556 |    4.6193  |\n"
     ]
    },
    {
     "name": "stderr",
     "output_type": "stream",
     "text": [
      "c:\\users\\binpc\\appdata\\local\\programs\\python\\python37\\lib\\site-packages\\ipykernel_launcher.py:3: RuntimeWarning: invalid value encountered in log10\n",
      "  This is separate from the ipykernel package so we can avoid doing imports until\n"
     ]
    }
   ],
   "source": [
    "if(\"DT\" in param.CurveNames):\n",
    "    Vp=1/DT\n",
    "    GeoMechParams[\"UCS\"]=np.exp(-6.36+2.45*np.log10(0.86*Vp-1172))*mega*Pa\n",
    "else:\n",
    "    GeoMechParams[\"UCS\"]=2.922*GeoMechParams[\"PORO\"]**-0.96\n",
    "\n",
    "plm.showTable([DZ/1e3,GeoMechParams[\"UCS\"]/1e6],['Depth(km)','UCS(MPa)'],preview=10)"
   ]
  },
  {
   "cell_type": "code",
   "execution_count": 42,
   "metadata": {},
   "outputs": [
    {
     "name": "stdout",
     "output_type": "stream",
     "text": [
      "Input data size(13609) < DEPTH size (25899), NULL value (nan) will be added\n"
     ]
    }
   ],
   "source": [
    "#Fix inf -inf value in data\n",
    "for name, data in GeoMechParams.items():\n",
    "        data[data==-np.inf]=np.nan\n",
    "        data[data==np.inf]=np.nan\n",
    "        #GeoMechParams[name]=data\n",
    "\n",
    "if(\"DT\" in param.CurveNames and \"DTS\" in param.CurveNames):\n",
    "    #plm.appendCurve(l,'G', GeoMechParams[\"G\"]/1e9, unit='GPa',descr='PyLasMech Bulk modulus',dataIndex=NonNanIndex)\n",
    "    plm.appendCurve(l,'v', GeoMechParams[\"v\"], unit='-',descr='PyLasMech possion ratio',dataIndex=NonNanIndex)\n",
    "    plm.appendCurve(l,'E', GeoMechParams[\"E\"]/1e9, unit='GPa',descr='PyLasMech Youngs modulus',dataIndex=NonNanIndex)\n",
    "plm.appendCurve(l,'UCS', GeoMechParams[\"UCS\"]/1e6, unit='MPa',descr='PyLasMech UCS',dataIndex=NonNanIndex)"
   ]
  },
  {
   "cell_type": "markdown",
   "metadata": {},
   "source": [
    "### Plot and visulization"
   ]
  },
  {
   "cell_type": "code",
   "execution_count": 45,
   "metadata": {},
   "outputs": [
    {
     "name": "stdout",
     "output_type": "stream",
     "text": [
      "\tAuto Depth Range= (1368.7044, 3442.5636) for  ['PORO', 'PORO_Athy', 'P_pore', 'P_pore_Athy', 'Sv', 'Shmin', 'Shmax', 'UCS']\n",
      "\t UCS Corrected Min/Max Val [1.1669628604600173, 139.61044176454988]\n"
     ]
    },
    {
     "data": {
      "image/png": "[encoded data removed]",
      "text/plain": [
       "<Figure size 1008x720 with 12 Axes>"
      ]
     },
     "metadata": {
      "needs_background": "light"
     },
     "output_type": "display_data"
    }
   ],
   "source": [
    "XLims={\"P_pore\":(10,90),\"P_pore_Athy\":(10,90),\"Sv\":(10,90),\"Shmax\":(10,90),\"Shmin\":(10,90),\"PORO_Athy\":(0,0.5),\"PORO\":(0,0.5)}\n",
    "PlotNames=plm.utils.sortbyKeyword(GeoMechParams.keys(),\"PORO\")\n",
    "fig=plm.plotLogs(LogData=l,CurveNames=PlotNames,XLims=XLims,NumCurvesPattern=[2,2,3,3])"
   ]
  },
  {
   "cell_type": "markdown",
   "metadata": {},
   "source": [
    "### Export to new las file"
   ]
  },
  {
   "cell_type": "code",
   "execution_count": 17,
   "metadata": {},
   "outputs": [
    {
     "name": "stdout",
     "output_type": "stream",
     "text": [
      "[IO] Save new log as  F:\\Course\\PETE 4241\\Projects\\FinalCode../Data/Petrophysics\\15_9-F-1 B_TVD_Geomech.las\n",
      "Write Las file @ ../Data/Petrophysics\\15_9-F-1 B_TVD_Geomech.las\n"
     ]
    }
   ],
   "source": [
    "fpath=\"../Data/Petrophysics\"#Save all new files at the root of petrophysics\n",
    "fname=WellLog.plm_param.WellName+\"_TVD_Geomech.las\"\n",
    "fname=os.path.join(fpath,fname)\n",
    "print(\"[IO] Save new log as \",os.getcwd()+fname)\n",
    "plm.saveLas(WellLog,fname)"
   ]
  }
 ],
 "metadata": {
  "kernelspec": {
   "display_name": "Python 3",
   "language": "python",
   "name": "python3"
  },
  "language_info": {
   "codemirror_mode": {
    "name": "ipython",
    "version": 3
   },
   "file_extension": ".py",
   "mimetype": "text/x-python",
   "name": "python",
   "nbconvert_exporter": "python",
   "pygments_lexer": "ipython3",
   "version": "3.7.0"
  }
 },
 "nbformat": 4,
 "nbformat_minor": 2
}
