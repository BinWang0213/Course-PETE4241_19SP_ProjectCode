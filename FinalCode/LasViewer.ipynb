{
 "cells": [
  {
   "cell_type": "code",
   "execution_count": 2,
   "metadata": {},
   "outputs": [
    {
     "name": "stdout",
     "output_type": "stream",
     "text": [
      "The autoreload extension is already loaded. To reload it, use:\n",
      "  %reload_ext autoreload\n"
     ]
    }
   ],
   "source": [
    "%load_ext autoreload\n",
    "%autoreload 2\n",
    "\n",
    "import os\n",
    "import PyLasMech as plm\n",
    "import matplotlib.pyplot as plt"
   ]
  },
  {
   "cell_type": "markdown",
   "metadata": {},
   "source": [
    "### Read well log datas"
   ]
  },
  {
   "cell_type": "code",
   "execution_count": 3,
   "metadata": {},
   "outputs": [
    {
     "name": "stdout",
     "output_type": "stream",
     "text": [
      "[IO] Found 18 log files\n"
     ]
    },
    {
     "data": {
      "text/html": [
       "<table style=\"display:inline\" border=\"1\" class=\"dataframe\">\n",
       "  <thead>\n",
       "    <tr style=\"text-align: right;\">\n",
       "      <th></th>\n",
       "      <th>FileName</th>\n",
       "      <th>Location</th>\n",
       "    </tr>\n",
       "  </thead>\n",
       "  <tbody>\n",
       "    <tr>\n",
       "      <th>0</th>\n",
       "      <td>15_9-F-11B_INPUT.LAS</td>\n",
       "      <td>..\\Data\\WellLog\\15_9-F-11B\\15_9-F-11B_INPUT.LAS</td>\n",
       "    </tr>\n",
       "    <tr>\n",
       "      <th>1</th>\n",
       "      <td>15_9-F-11B_OUTPUT.LAS</td>\n",
       "      <td>..\\Data\\WellLog\\15_9-F-11B\\15_9-F-11B_OUTPUT.LAS</td>\n",
       "    </tr>\n",
       "    <tr>\n",
       "      <th>2</th>\n",
       "      <td>15_9-F-12_INPUT.LAS</td>\n",
       "      <td>..\\Data\\WellLog\\15_9-F-12\\15_9-F-12_INPUT.LAS</td>\n",
       "    </tr>\n",
       "    <tr>\n",
       "      <th>3</th>\n",
       "      <td>15_9-F-12_OUTPUT.LAS</td>\n",
       "      <td>..\\Data\\WellLog\\15_9-F-12\\15_9-F-12_OUTPUT.LAS</td>\n",
       "    </tr>\n",
       "    <tr>\n",
       "      <th>4</th>\n",
       "      <td>15_9-F-14_INPUT.las</td>\n",
       "      <td>..\\Data\\WellLog\\15_9-F-14\\15_9-F-14_INPUT.las</td>\n",
       "    </tr>\n",
       "    <tr>\n",
       "      <th>5</th>\n",
       "      <td>15_9-F-14_OUTPUT.las</td>\n",
       "      <td>..\\Data\\WellLog\\15_9-F-14\\15_9-F-14_OUTPUT.las</td>\n",
       "    </tr>\n",
       "    <tr>\n",
       "      <th>6</th>\n",
       "      <td>15_9-F-15C_INPUT.las</td>\n",
       "      <td>..\\Data\\WellLog\\15_9-F-15C\\15_9-F-15C_INPUT.las</td>\n",
       "    </tr>\n",
       "    <tr>\n",
       "      <th>7</th>\n",
       "      <td>15_9-F-15C_OUTPUT.las</td>\n",
       "      <td>..\\Data\\WellLog\\15_9-F-15C\\15_9-F-15C_OUTPUT.las</td>\n",
       "    </tr>\n",
       "    <tr>\n",
       "      <th>8</th>\n",
       "      <td>15_9-F-15D_INPUT.LAS</td>\n",
       "      <td>..\\Data\\WellLog\\15_9-F-15D\\15_9-F-15D_INPUT.LAS</td>\n",
       "    </tr>\n",
       "    <tr>\n",
       "      <th>9</th>\n",
       "      <td>15_9-F-15D_OUTPUT.LAS</td>\n",
       "      <td>..\\Data\\WellLog\\15_9-F-15D\\15_9-F-15D_OUTPUT.LAS</td>\n",
       "    </tr>\n",
       "    <tr>\n",
       "      <th>10</th>\n",
       "      <td>15_9-F-1B_INPUT.LAS</td>\n",
       "      <td>..\\Data\\WellLog\\15_9-F-1B\\15_9-F-1B_INPUT.LAS</td>\n",
       "    </tr>\n",
       "    <tr>\n",
       "      <th>11</th>\n",
       "      <td>15_9-F-1B_OUTPUT.LAS</td>\n",
       "      <td>..\\Data\\WellLog\\15_9-F-1B\\15_9-F-1B_OUTPUT.LAS</td>\n",
       "    </tr>\n",
       "    <tr>\n",
       "      <th>12</th>\n",
       "      <td>15_9-F-1C_INPUT.LAS</td>\n",
       "      <td>..\\Data\\WellLog\\15_9-F-1C\\15_9-F-1C_INPUT.LAS</td>\n",
       "    </tr>\n",
       "    <tr>\n",
       "      <th>13</th>\n",
       "      <td>15_9-F-1C_OUTPUT.LAS</td>\n",
       "      <td>..\\Data\\WellLog\\15_9-F-1C\\15_9-F-1C_OUTPUT.LAS</td>\n",
       "    </tr>\n",
       "    <tr>\n",
       "      <th>14</th>\n",
       "      <td>15_9-F-4_INPUT.las</td>\n",
       "      <td>..\\Data\\WellLog\\15_9-F-4\\15_9-F-4_INPUT.las</td>\n",
       "    </tr>\n",
       "    <tr>\n",
       "      <th>15</th>\n",
       "      <td>15_9-F-4_OUTPUT.las</td>\n",
       "      <td>..\\Data\\WellLog\\15_9-F-4\\15_9-F-4_OUTPUT.las</td>\n",
       "    </tr>\n",
       "    <tr>\n",
       "      <th>16</th>\n",
       "      <td>15_9-F-5_INPUT.las</td>\n",
       "      <td>..\\Data\\WellLog\\15_9-F-5\\15_9-F-5_INPUT.las</td>\n",
       "    </tr>\n",
       "    <tr>\n",
       "      <th>17</th>\n",
       "      <td>15_9-F-5_OUTPUT.las</td>\n",
       "      <td>..\\Data\\WellLog\\15_9-F-5\\15_9-F-5_OUTPUT.las</td>\n",
       "    </tr>\n",
       "  </tbody>\n",
       "</table style=\"display:inline\">"
      ]
     },
     "metadata": {},
     "output_type": "display_data"
    }
   ],
   "source": [
    "LogFiles=plm.LasFinder(\"../Data/\")"
   ]
  },
  {
   "cell_type": "code",
   "execution_count": 25,
   "metadata": {},
   "outputs": [
    {
     "name": "stdout",
     "output_type": "stream",
     "text": [
      "[IO] Reading F:\\Course\\PETE 4241\\Projects\\Data\\WellLog\\15_9-F-11B\\15_9-F-11B_INPUT.LAS.....\n",
      "[Warnning] Data size (45817,45818) is in-comptabile with depth/depth_step!\n",
      "Done!\n"
     ]
    },
    {
     "name": "stderr",
     "output_type": "stream",
     "text": [
      "Header section Parameter regexp=~P was not found.\n"
     ]
    },
    {
     "name": "stdout",
     "output_type": "stream",
     "text": [
      "[IO] Reading F:\\Course\\PETE 4241\\Projects\\Data\\WellLog\\15_9-F-12\\15_9-F-12_INPUT.LAS.....Done!\n",
      "[IO] Reading F:\\Course\\PETE 4241\\Projects\\Data\\WellLog\\15_9-F-14\\15_9-F-14_INPUT.las.....Done!\n",
      "[IO] Reading F:\\Course\\PETE 4241\\Projects\\Data\\WellLog\\15_9-F-15C\\15_9-F-15C_INPUT.las.....\n",
      "[Warnning] Data size (4345,4346) is in-comptabile with depth/depth_step!\n",
      "Done!\n",
      "[IO] Reading F:\\Course\\PETE 4241\\Projects\\Data\\WellLog\\15_9-F-15D\\15_9-F-15D_INPUT.LAS.....Done!\n",
      "[IO] Reading F:\\Course\\PETE 4241\\Projects\\Data\\WellLog\\15_9-F-1B\\15_9-F-1B_INPUT.LAS.....\n",
      "[Warnning] No intersection! Get union!\n",
      "Done!\n",
      "[IO] Reading F:\\Course\\PETE 4241\\Projects\\Data\\WellLog\\15_9-F-1C\\15_9-F-1C_INPUT.LAS.....Done!\n",
      "[IO] Reading F:\\Course\\PETE 4241\\Projects\\Data\\WellLog\\15_9-F-4\\15_9-F-4_INPUT.las.....Done!\n",
      "[IO] Reading F:\\Course\\PETE 4241\\Projects\\Data\\WellLog\\15_9-F-5\\15_9-F-5_INPUT.las.....Done!\n"
     ]
    }
   ],
   "source": [
    "NumWells=len(LogFiles)/2\n",
    "\n",
    "WellLogs=[]\n",
    "WellLogParams=[]\n",
    "#INPUT file contains RHOB, DT, DTS etc\n",
    "for log in LogFiles[::2]:\n",
    "    log,param=plm.ReadLas(log)\n",
    "    \n",
    "    WellLogs.append(log)\n",
    "    WellLogParams.append(param)"
   ]
  },
  {
   "cell_type": "code",
   "execution_count": 26,
   "metadata": {},
   "outputs": [
    {
     "name": "stdout",
     "output_type": "stream",
     "text": [
      "[LAS Info]\n",
      "Well Name= 15/9-F-1 B\n",
      "Start/Step/End Depth=(145.900000:0.100000:3464.900000)\n",
      "NULL value= -999.25\n",
      "Common Depth= (145.9, 3464.9)\n"
     ]
    },
    {
     "data": {
      "text/html": [
       "<table style=\"display:inline\" border=\"1\" class=\"dataframe\">\n",
       "  <thead>\n",
       "    <tr style=\"text-align: right;\">\n",
       "      <th></th>\n",
       "      <th>Curves</th>\n",
       "      <th>Available Depth (Non-NULL)</th>\n",
       "      <th>Raw Min/Max Val</th>\n",
       "      <th>Unit</th>\n",
       "      <th>Comments</th>\n",
       "    </tr>\n",
       "  </thead>\n",
       "  <tbody>\n",
       "    <tr>\n",
       "      <th>0</th>\n",
       "      <td>DEPTH</td>\n",
       "      <td>[145.9, 3464.9]</td>\n",
       "      <td>[145.9, 3464.9]</td>\n",
       "      <td>M</td>\n",
       "      <td>0  Depth</td>\n",
       "    </tr>\n",
       "    <tr>\n",
       "      <th>1</th>\n",
       "      <td>ABDCQF01</td>\n",
       "      <td>[3120.0, 3442.5]</td>\n",
       "      <td>[2.1046, 3.0577]</td>\n",
       "      <td>g/cm3</td>\n",
       "      <td>1  ABDCQF01:COMPOSITE:rC:NONE:v1</td>\n",
       "    </tr>\n",
       "    <tr>\n",
       "      <th>2</th>\n",
       "      <td>ABDCQF02</td>\n",
       "      <td>[3120.0, 3442.5]</td>\n",
       "      <td>[2.1182, 3.0521]</td>\n",
       "      <td>g/cm3</td>\n",
       "      <td>2  ABDCQF02:COMPOSITE:rC:NONE:v1</td>\n",
       "    </tr>\n",
       "    <tr>\n",
       "      <th>3</th>\n",
       "      <td>ABDCQF03</td>\n",
       "      <td>[3120.0, 3442.5]</td>\n",
       "      <td>[2.0902, 3.0505]</td>\n",
       "      <td>g/cm3</td>\n",
       "      <td>3  ABDCQF03:COMPOSITE:rC:NONE:v1</td>\n",
       "    </tr>\n",
       "    <tr>\n",
       "      <th>4</th>\n",
       "      <td>ABDCQF04</td>\n",
       "      <td>[3120.0, 3442.5]</td>\n",
       "      <td>[2.1247, 3.0866]</td>\n",
       "      <td>g/cm3</td>\n",
       "      <td>4  ABDCQF04:COMPOSITE:rC:NONE:v1</td>\n",
       "    </tr>\n",
       "    <tr>\n",
       "      <th>5</th>\n",
       "      <td>BS</td>\n",
       "      <td>[145.9, 3464.9]</td>\n",
       "      <td>[8.5, 36.0]</td>\n",
       "      <td>inches</td>\n",
       "      <td>5  BS:COMPOSITE:rC:NONE:v1</td>\n",
       "    </tr>\n",
       "    <tr>\n",
       "      <th>6</th>\n",
       "      <td>CALI</td>\n",
       "      <td>[3090.0, 3441.8]</td>\n",
       "      <td>[8.3604, 10.1917]</td>\n",
       "      <td>inches</td>\n",
       "      <td>6  CALI:COMPOSITE:rC:NONE:v1</td>\n",
       "    </tr>\n",
       "    <tr>\n",
       "      <th>7</th>\n",
       "      <td>DRHO</td>\n",
       "      <td>[3090.0, 3442.5]</td>\n",
       "      <td>[-0.0225, 0.2206]</td>\n",
       "      <td>g/cm3</td>\n",
       "      <td>7  DRHO:COMPOSITE:rC:NONE:v1</td>\n",
       "    </tr>\n",
       "    <tr>\n",
       "      <th>8</th>\n",
       "      <td>DT</td>\n",
       "      <td>[2998.5, 3424.6]</td>\n",
       "      <td>[54.9283, 125.9827]</td>\n",
       "      <td>us/ft</td>\n",
       "      <td>8  DT:COMPOSITE:rC:NONE:v1</td>\n",
       "    </tr>\n",
       "    <tr>\n",
       "      <th>9</th>\n",
       "      <td>DTS</td>\n",
       "      <td>[2999.0, 3424.7]</td>\n",
       "      <td>[99.9092, 202.14]</td>\n",
       "      <td>us/ft</td>\n",
       "      <td>9  DTS:COMPOSITE:rC:NONE:v1</td>\n",
       "    </tr>\n",
       "    <tr>\n",
       "      <th>10</th>\n",
       "      <td>GR</td>\n",
       "      <td>[197.9, 3457.1]</td>\n",
       "      <td>[0.1493, 297.7673]</td>\n",
       "      <td>API</td>\n",
       "      <td>10  GR:COMPOSITE:rC:NONE:v1</td>\n",
       "    </tr>\n",
       "    <tr>\n",
       "      <th>11</th>\n",
       "      <td>NBGRCFM</td>\n",
       "      <td>[1279.7, 2598.3]</td>\n",
       "      <td>[3.2584, 189.6786]</td>\n",
       "      <td>API</td>\n",
       "      <td>11  NBGRCFM:COMPOSITE:rC:0001:v1</td>\n",
       "    </tr>\n",
       "    <tr>\n",
       "      <th>12</th>\n",
       "      <td>NPHI</td>\n",
       "      <td>[3098.5, 3439.7]</td>\n",
       "      <td>[0.0595, 0.5576]</td>\n",
       "      <td>v/v</td>\n",
       "      <td>12  NPHI:COMPOSITE:rC:NONE:v1</td>\n",
       "    </tr>\n",
       "    <tr>\n",
       "      <th>13</th>\n",
       "      <td>PEF</td>\n",
       "      <td>[3098.5, 3442.5]</td>\n",
       "      <td>[4.7299, 10.9876]</td>\n",
       "      <td>b/elec</td>\n",
       "      <td>13  PEF:COMPOSITE:rC:NONE:v1</td>\n",
       "    </tr>\n",
       "    <tr>\n",
       "      <th>14</th>\n",
       "      <td>RACEHM</td>\n",
       "      <td>[2589.4, 3456.0]</td>\n",
       "      <td>[-0.0965, 1118.3141]</td>\n",
       "      <td>ohm.m</td>\n",
       "      <td>14  RACEHM:COMPOSITE:rC:NONE:v1</td>\n",
       "    </tr>\n",
       "    <tr>\n",
       "      <th>15</th>\n",
       "      <td>RACELM</td>\n",
       "      <td>[2589.4, 3456.0]</td>\n",
       "      <td>[0.072, 8417.9795]</td>\n",
       "      <td>ohm.m</td>\n",
       "      <td>15  RACELM:COMPOSITE:rC:NONE:v1</td>\n",
       "    </tr>\n",
       "    <tr>\n",
       "      <th>16</th>\n",
       "      <td>RD</td>\n",
       "      <td>[226.0, 3456.0]</td>\n",
       "      <td>[0.2032, 96.4279]</td>\n",
       "      <td>ohm.m</td>\n",
       "      <td>16  RD:COMPOSITE:rC:NONE:v1</td>\n",
       "    </tr>\n",
       "    <tr>\n",
       "      <th>17</th>\n",
       "      <td>RHOB</td>\n",
       "      <td>[3098.5, 3442.5]</td>\n",
       "      <td>[2.1118, 3.0517]</td>\n",
       "      <td>g/cm3</td>\n",
       "      <td>17  RHOB:COMPOSITE:rC:NONE:v1</td>\n",
       "    </tr>\n",
       "    <tr>\n",
       "      <th>18</th>\n",
       "      <td>RM</td>\n",
       "      <td>[226.0, 3456.0]</td>\n",
       "      <td>[0.1794, 396.6379]</td>\n",
       "      <td>ohm.m</td>\n",
       "      <td>18  RM:COMPOSITE:rC:NONE:v1</td>\n",
       "    </tr>\n",
       "    <tr>\n",
       "      <th>19</th>\n",
       "      <td>ROP</td>\n",
       "      <td>[223.2, 3464.8]</td>\n",
       "      <td>[0.3856, 151.127]</td>\n",
       "      <td>m/hr</td>\n",
       "      <td>19  ROP:COMPOSITE:rC:NONE:v1</td>\n",
       "    </tr>\n",
       "    <tr>\n",
       "      <th>20</th>\n",
       "      <td>RPCEHM</td>\n",
       "      <td>[2589.4, 3456.0]</td>\n",
       "      <td>[0.2237, 97543.4219]</td>\n",
       "      <td>ohm.m</td>\n",
       "      <td>20  RPCEHM:COMPOSITE:rC:NONE:v1</td>\n",
       "    </tr>\n",
       "    <tr>\n",
       "      <th>21</th>\n",
       "      <td>RPCELM</td>\n",
       "      <td>[2589.4, 3456.0]</td>\n",
       "      <td>[0.2904, 97036.4063]</td>\n",
       "      <td>ohm.m</td>\n",
       "      <td>21  RPCELM:COMPOSITE:rC:NONE:v1</td>\n",
       "    </tr>\n",
       "    <tr>\n",
       "      <th>22</th>\n",
       "      <td>RT</td>\n",
       "      <td>[2589.4, 3456.0]</td>\n",
       "      <td>[0.2237, 97543.4219]</td>\n",
       "      <td>ohm.m</td>\n",
       "      <td>22  RT:COMPOSITE:rC:NONE:v1</td>\n",
       "    </tr>\n",
       "  </tbody>\n",
       "</table style=\"display:inline\">"
      ]
     },
     "metadata": {},
     "output_type": "display_data"
    },
    {
     "data": {
      "text/plain": [
       "array([2.5399, 2.5789, 2.5917, ..., 2.5305, 2.5334, 2.5346])"
      ]
     },
     "execution_count": 26,
     "metadata": {},
     "output_type": "execute_result"
    }
   ],
   "source": [
    "#Print las file summary table\n",
    "plm.printLas(WellLogParams[5])\n",
    "\n",
    "#Access las array\n",
    "WellLogs[5][\"RHOB\"][WellLogParams[5].NonNanDict[\"RHOB\"]]"
   ]
  },
  {
   "cell_type": "markdown",
   "metadata": {},
   "source": [
    "### Plot well log curves"
   ]
  },
  {
   "cell_type": "code",
   "execution_count": 27,
   "metadata": {},
   "outputs": [
    {
     "name": "stdout",
     "output_type": "stream",
     "text": [
      "\t DTS Corrected Min/Max Val [99.9092, 202.14]\n",
      "\t RHOB Corrected Min/Max Val [2.1118, 3.0517]\n",
      "\t DT Corrected Min/Max Val [54.9283, 125.9827]\n",
      "\t NPHI Corrected Min/Max Val [0.0595, 0.5576]\n"
     ]
    },
    {
     "data": {
      "image/png": "[encoded data removed]",
      "text/plain": [
       "<Figure size 504x720 with 6 Axes>"
      ]
     },
     "metadata": {
      "needs_background": "light"
     },
     "output_type": "display_data"
    }
   ],
   "source": [
    "#Plot logs\n",
    "fig=plm.plotLogs(LogData=WellLogs[5],CurveNames=[\"DT\",\"DTS\",\"RHOB\",\"NPHI\"],Depth_Range=(2990, 3464.9))"
   ]
  },
  {
   "cell_type": "code",
   "execution_count": 29,
   "metadata": {},
   "outputs": [
    {
     "name": "stdout",
     "output_type": "stream",
     "text": [
      "\t RHOB Corrected Min/Max Val [1.627, 3.09]\n",
      "\t NPHI Corrected Min/Max Val [0.024, 0.541]\n",
      "[IO] Save log figure as  F:\\Course\\PETE 4241\\Projects\\FinalCode./output/15_9-F-11 B_log.png\n",
      "\t RHOB Corrected Min/Max Val [2.07470011, 2.93919992]\n",
      "\t DT Corrected Min/Max Val [52.5032005, 100.426902]\n",
      "\t NPHI Corrected Min/Max Val [0.11119999, 0.41010001]\n",
      "[IO] Save log figure as  F:\\Course\\PETE 4241\\Projects\\FinalCode./output/15_9-F-12_log.png\n",
      "\t DTS Corrected Min/Max Val [0, 186.4474]\n",
      "\t RHOB Corrected Min/Max Val [1.0988, 2.8762]\n",
      "\t DT Corrected Min/Max Val [54.6665, 107.7032]\n",
      "\t NPHI Corrected Min/Max Val [0, 0.48]\n",
      "[IO] Save log figure as  F:\\Course\\PETE 4241\\Projects\\FinalCode./output/15_9-F-14_log.png\n",
      "\t RHOB Corrected Min/Max Val [1.4295, 2.7744]\n",
      "\t DT Corrected Min/Max Val [56.1115, 133.044006]\n",
      "\t NPHI Corrected Min/Max Val [0.0545, 0.5733]\n",
      "[IO] Save log figure as  F:\\Course\\PETE 4241\\Projects\\FinalCode./output/15_9-F-15 C_log.png\n",
      "\t RHOB Corrected Min/Max Val [2.1319, 3.0644]\n",
      "\t NPHI Corrected Min/Max Val [0.0679, 0.4843]\n",
      "[IO] Save log figure as  F:\\Course\\PETE 4241\\Projects\\FinalCode./output/15_9-F-15 D_log.png\n",
      "\t DTS Corrected Min/Max Val [99.9092, 202.14]\n",
      "\t RHOB Corrected Min/Max Val [2.1118, 3.0517]\n",
      "\t DT Corrected Min/Max Val [54.9283, 125.9827]\n",
      "\t NPHI Corrected Min/Max Val [0.0595, 0.5576]\n",
      "[IO] Save log figure as  F:\\Course\\PETE 4241\\Projects\\FinalCode./output/15_9-F-1 B_log.png\n",
      "\t RHOB Corrected Min/Max Val [1.7508, 2.9066]\n",
      "\t NPHI Corrected Min/Max Val [0.0459, 0.5761]\n",
      "[IO] Save log figure as  F:\\Course\\PETE 4241\\Projects\\FinalCode./output/15_9-F-1 C_log.png\n",
      "\t DTS Corrected Min/Max Val [0, 190.2627]\n",
      "\t RHOB Corrected Min/Max Val [1.3341, 3.2013]\n",
      "\t DT Corrected Min/Max Val [53.358, 130.7579]\n",
      "\t NPHI Corrected Min/Max Val [0, 0.7324]\n",
      "[IO] Save log figure as  F:\\Course\\PETE 4241\\Projects\\FinalCode./output/15_9-F-4_log.png\n",
      "\t RHOB Corrected Min/Max Val [2.1303, 3.0392]\n",
      "\t DT Corrected Min/Max Val [48.2753, 125.3938]\n",
      "\t NPHI Corrected Min/Max Val [0.0548, 0.6]\n",
      "[IO] Save log figure as  F:\\Course\\PETE 4241\\Projects\\FinalCode./output/15_9-F-5_log.png\n"
     ]
    }
   ],
   "source": [
    "#Save all figs\n",
    "OutputFolder=\"./output/\"\n",
    "os.makedirs(OutputFolder, exist_ok=True)\n",
    "\n",
    "for i in range(len(WellLogs)):   \n",
    "    fname=OutputFolder+WellLogParams[i].WellName.replace(\"/\",\"_\")+'_log.png'\n",
    "\n",
    "    fig=plm.plotLogs(LogData=WellLogs[i],CurveNames=[\"DT\",\"DTS\",\"RHOB\",\"NPHI\"],\n",
    "                     Depth_Range=WellLogParams[i].CommonDepth)\n",
    "    plt.savefig(fname,dpi=300,bbox_inches = 'tight')\n",
    "    print(\"[IO] Save log figure as \",os.getcwd()+fname)\n",
    "    plt.close(fig)"
   ]
  },
  {
   "cell_type": "code",
   "execution_count": null,
   "metadata": {},
   "outputs": [],
   "source": []
  }
 ],
 "metadata": {
  "kernelspec": {
   "display_name": "Python 3",
   "language": "python",
   "name": "python3"
  },
  "language_info": {
   "codemirror_mode": {
    "name": "ipython",
    "version": 3
   },
   "file_extension": ".py",
   "mimetype": "text/x-python",
   "name": "python",
   "nbconvert_exporter": "python",
   "pygments_lexer": "ipython3",
   "version": "3.7.0"
  }
 },
 "nbformat": 4,
 "nbformat_minor": 2
}
